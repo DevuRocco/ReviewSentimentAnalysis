{
 "cells": [
  {
   "cell_type": "markdown",
   "id": "aba84b5d",
   "metadata": {},
   "source": [
    "## Text Classification"
   ]
  },
  {
   "cell_type": "markdown",
   "id": "0e2c10d0",
   "metadata": {},
   "source": [
    "**Product Review (2016-2021)** <br/>"
   ]
  },
  {
   "cell_type": "markdown",
   "id": "9b6aa906",
   "metadata": {},
   "source": [
    "In this assignment I will perform review classification on the product review dataset which was collected and parsed in the previous task.\n",
    "\n",
    "This notebook covers **Task 2 - Review Sentiment Classification** and **Task 3 - Review Helpfulness Classification**. Since the raw data is in CSV format so I will convert it into a more appropriate dataframe form and then I will perform cleaning and analysis procedures."
   ]
  },
  {
   "cell_type": "code",
   "execution_count": 1,
   "id": "e5bd94c5",
   "metadata": {},
   "outputs": [],
   "source": [
    "import pandas as pd\n",
    "import numpy as np\n",
    "import string\n",
    "import os\n",
    "import re\n",
    "import requests\n",
    "import seaborn as sn\n",
    "import matplotlib.pyplot as plt\n",
    "from bs4 import BeautifulSoup\n",
    "\n",
    "from nltk.tokenize import WordPunctTokenizer\n",
    "from nltk.stem import WordNetLemmatizer\n",
    "\n",
    "from sklearn.feature_extraction.text import TfidfVectorizer, CountVectorizer, TfidfTransformer\n",
    "from sklearn.model_selection import train_test_split, cross_val_score, KFold, GridSearchCV, RepeatedKFold\n",
    "from sklearn.neighbors import KNeighborsClassifier\n",
    "from sklearn.metrics import accuracy_score, confusion_matrix, classification_report\n",
    "from sklearn import linear_model\n",
    "from sklearn.linear_model import LogisticRegression, SGDClassifier\n",
    "from sklearn import svm\n",
    "from sklearn.svm import LinearSVC\n",
    "from sklearn import tree\n",
    "from sklearn.tree import DecisionTreeClassifier\n",
    "from sklearn.naive_bayes import GaussianNB\n",
    "from sklearn.naive_bayes import MultinomialNB\n",
    "from sklearn.ensemble import RandomForestClassifier\n",
    "from sklearn.pipeline import Pipeline\n",
    "\n",
    "import warnings\n",
    "warnings.filterwarnings('ignore')\n"
   ]
  },
  {
   "cell_type": "code",
   "execution_count": 2,
   "id": "bafc7865",
   "metadata": {},
   "outputs": [
    {
     "name": "stderr",
     "output_type": "stream",
     "text": [
      "[nltk_data] Downloading package stopwords to\n",
      "[nltk_data]     C:\\Users\\Admin\\AppData\\Roaming\\nltk_data...\n",
      "[nltk_data]   Package stopwords is already up-to-date!\n",
      "[nltk_data] Downloading package wordnet to\n",
      "[nltk_data]     C:\\Users\\Admin\\AppData\\Roaming\\nltk_data...\n",
      "[nltk_data]   Package wordnet is already up-to-date!\n"
     ]
    }
   ],
   "source": [
    "from nltk.corpus import stopwords\n",
    "import nltk\n",
    "nltk.download('stopwords')\n",
    "nltk.download('wordnet')\n",
    "stop_words = set(stopwords.words('english'))"
   ]
  },
  {
   "cell_type": "markdown",
   "id": "7964154c",
   "metadata": {},
   "source": [
    "### Task 2 - Review Sentiment Classification:"
   ]
  },
  {
   "cell_type": "markdown",
   "id": "0b47fece",
   "metadata": {},
   "source": [
    "## Data Preparation"
   ]
  },
  {
   "cell_type": "markdown",
   "id": "2fb85694",
   "metadata": {},
   "source": [
    "### Data Loading:\n",
    "\n",
    "Function to load the CSV file (raw data) from the previous task and then to parse it into the pandas dataframe"
   ]
  },
  {
   "cell_type": "code",
   "execution_count": 3,
   "id": "76fc9276",
   "metadata": {},
   "outputs": [],
   "source": [
    "df = pd.read_csv(\"raw/review_data.csv\")"
   ]
  },
  {
   "cell_type": "code",
   "execution_count": 4,
   "id": "f527fbc1",
   "metadata": {
    "scrolled": true
   },
   "outputs": [
    {
     "data": {
      "text/html": [
       "<div>\n",
       "<style scoped>\n",
       "    .dataframe tbody tr th:only-of-type {\n",
       "        vertical-align: middle;\n",
       "    }\n",
       "\n",
       "    .dataframe tbody tr th {\n",
       "        vertical-align: top;\n",
       "    }\n",
       "\n",
       "    .dataframe thead th {\n",
       "        text-align: right;\n",
       "    }\n",
       "</style>\n",
       "<table border=\"1\" class=\"dataframe\">\n",
       "  <thead>\n",
       "    <tr style=\"text-align: right;\">\n",
       "      <th></th>\n",
       "      <th>Title</th>\n",
       "      <th>Review</th>\n",
       "      <th>Rating</th>\n",
       "      <th>Helpfulness_Info</th>\n",
       "    </tr>\n",
       "  </thead>\n",
       "  <tbody>\n",
       "    <tr>\n",
       "      <th>0</th>\n",
       "      <td>This filter works PERFECT!</td>\n",
       "      <td>Seriously, I love my Keurig. I love the conven...</td>\n",
       "      <td>5</td>\n",
       "      <td>472 out of 477 users found this review helpful</td>\n",
       "    </tr>\n",
       "    <tr>\n",
       "      <th>1</th>\n",
       "      <td>This stuff is great for muffins</td>\n",
       "      <td>There's a recipe on the back of the package fo...</td>\n",
       "      <td>4</td>\n",
       "      <td>17 out of 17 users found this review helpful</td>\n",
       "    </tr>\n",
       "    <tr>\n",
       "      <th>2</th>\n",
       "      <td>Curiously awful</td>\n",
       "      <td>Cola is by far my favorite drink. My wife and ...</td>\n",
       "      <td>1</td>\n",
       "      <td>1 out of 14 users found this review helpful</td>\n",
       "    </tr>\n",
       "    <tr>\n",
       "      <th>3</th>\n",
       "      <td>Rancid!</td>\n",
       "      <td>I love chia, but I have gotten two different p...</td>\n",
       "      <td>1</td>\n",
       "      <td>23 out of 26 users found this review helpful</td>\n",
       "    </tr>\n",
       "    <tr>\n",
       "      <th>4</th>\n",
       "      <td>They taste like boogers</td>\n",
       "      <td>If you don't like the sound of a salty, vinega...</td>\n",
       "      <td>1</td>\n",
       "      <td>4 out of 19 users found this review helpful</td>\n",
       "    </tr>\n",
       "  </tbody>\n",
       "</table>\n",
       "</div>"
      ],
      "text/plain": [
       "                             Title  \\\n",
       "0       This filter works PERFECT!   \n",
       "1  This stuff is great for muffins   \n",
       "2                  Curiously awful   \n",
       "3                          Rancid!   \n",
       "4          They taste like boogers   \n",
       "\n",
       "                                              Review  Rating  \\\n",
       "0  Seriously, I love my Keurig. I love the conven...       5   \n",
       "1  There's a recipe on the back of the package fo...       4   \n",
       "2  Cola is by far my favorite drink. My wife and ...       1   \n",
       "3  I love chia, but I have gotten two different p...       1   \n",
       "4  If you don't like the sound of a salty, vinega...       1   \n",
       "\n",
       "                                 Helpfulness_Info  \n",
       "0  472 out of 477 users found this review helpful  \n",
       "1    17 out of 17 users found this review helpful  \n",
       "2     1 out of 14 users found this review helpful  \n",
       "3    23 out of 26 users found this review helpful  \n",
       "4     4 out of 19 users found this review helpful  "
      ]
     },
     "execution_count": 4,
     "metadata": {},
     "output_type": "execute_result"
    }
   ],
   "source": [
    "df.head(5)"
   ]
  },
  {
   "cell_type": "markdown",
   "id": "f6c5f7a0",
   "metadata": {},
   "source": [
    "### Data Cleaning:"
   ]
  },
  {
   "cell_type": "markdown",
   "id": "dc8467d5",
   "metadata": {},
   "source": [
    "Now, I will assign a class label (positive or negative) to each review where 1-star to 3-star ratings will be assumed negative and 4-star to 5-star to be positive."
   ]
  },
  {
   "cell_type": "code",
   "execution_count": 5,
   "id": "7dfd27b6",
   "metadata": {},
   "outputs": [],
   "source": [
    "df['Rating'] = df['Rating'].apply(lambda x: \"Positive\" if x > 3 else \"Negative\")"
   ]
  },
  {
   "cell_type": "code",
   "execution_count": 6,
   "id": "af15f558",
   "metadata": {},
   "outputs": [
    {
     "data": {
      "text/html": [
       "<div>\n",
       "<style scoped>\n",
       "    .dataframe tbody tr th:only-of-type {\n",
       "        vertical-align: middle;\n",
       "    }\n",
       "\n",
       "    .dataframe tbody tr th {\n",
       "        vertical-align: top;\n",
       "    }\n",
       "\n",
       "    .dataframe thead th {\n",
       "        text-align: right;\n",
       "    }\n",
       "</style>\n",
       "<table border=\"1\" class=\"dataframe\">\n",
       "  <thead>\n",
       "    <tr style=\"text-align: right;\">\n",
       "      <th></th>\n",
       "      <th>Title</th>\n",
       "      <th>Review</th>\n",
       "      <th>Rating</th>\n",
       "      <th>Helpfulness_Info</th>\n",
       "    </tr>\n",
       "  </thead>\n",
       "  <tbody>\n",
       "    <tr>\n",
       "      <th>0</th>\n",
       "      <td>This filter works PERFECT!</td>\n",
       "      <td>Seriously, I love my Keurig. I love the conven...</td>\n",
       "      <td>Positive</td>\n",
       "      <td>472 out of 477 users found this review helpful</td>\n",
       "    </tr>\n",
       "    <tr>\n",
       "      <th>1</th>\n",
       "      <td>This stuff is great for muffins</td>\n",
       "      <td>There's a recipe on the back of the package fo...</td>\n",
       "      <td>Positive</td>\n",
       "      <td>17 out of 17 users found this review helpful</td>\n",
       "    </tr>\n",
       "    <tr>\n",
       "      <th>2</th>\n",
       "      <td>Curiously awful</td>\n",
       "      <td>Cola is by far my favorite drink. My wife and ...</td>\n",
       "      <td>Negative</td>\n",
       "      <td>1 out of 14 users found this review helpful</td>\n",
       "    </tr>\n",
       "    <tr>\n",
       "      <th>3</th>\n",
       "      <td>Rancid!</td>\n",
       "      <td>I love chia, but I have gotten two different p...</td>\n",
       "      <td>Negative</td>\n",
       "      <td>23 out of 26 users found this review helpful</td>\n",
       "    </tr>\n",
       "    <tr>\n",
       "      <th>4</th>\n",
       "      <td>They taste like boogers</td>\n",
       "      <td>If you don't like the sound of a salty, vinega...</td>\n",
       "      <td>Negative</td>\n",
       "      <td>4 out of 19 users found this review helpful</td>\n",
       "    </tr>\n",
       "  </tbody>\n",
       "</table>\n",
       "</div>"
      ],
      "text/plain": [
       "                             Title  \\\n",
       "0       This filter works PERFECT!   \n",
       "1  This stuff is great for muffins   \n",
       "2                  Curiously awful   \n",
       "3                          Rancid!   \n",
       "4          They taste like boogers   \n",
       "\n",
       "                                              Review    Rating  \\\n",
       "0  Seriously, I love my Keurig. I love the conven...  Positive   \n",
       "1  There's a recipe on the back of the package fo...  Positive   \n",
       "2  Cola is by far my favorite drink. My wife and ...  Negative   \n",
       "3  I love chia, but I have gotten two different p...  Negative   \n",
       "4  If you don't like the sound of a salty, vinega...  Negative   \n",
       "\n",
       "                                 Helpfulness_Info  \n",
       "0  472 out of 477 users found this review helpful  \n",
       "1    17 out of 17 users found this review helpful  \n",
       "2     1 out of 14 users found this review helpful  \n",
       "3    23 out of 26 users found this review helpful  \n",
       "4     4 out of 19 users found this review helpful  "
      ]
     },
     "execution_count": 6,
     "metadata": {},
     "output_type": "execute_result"
    }
   ],
   "source": [
    "df.head(5)"
   ]
  },
  {
   "cell_type": "markdown",
   "id": "cd31548f",
   "metadata": {},
   "source": [
    "Helpfulness Information also needs to be transformed into binary labels as \"Helpful\" or \"Unhelpful\". I will assign a \"Helpful\" label to the reviews where atleast 80% of the users found it helpful otherwise \"Unhelpful\""
   ]
  },
  {
   "cell_type": "code",
   "execution_count": 8,
   "id": "31fc1904",
   "metadata": {},
   "outputs": [],
   "source": [
    "df['Helpfulness_Info'] = df['Helpfulness_Info'].apply(lambda x: x.replace(\" users found this review helpful\",\"\"))\n"
   ]
  },
  {
   "cell_type": "code",
   "execution_count": 9,
   "id": "b4095af9",
   "metadata": {},
   "outputs": [],
   "source": [
    "df['Helpfulness_Info'] = df['Helpfulness_Info'].apply(lambda x: x.replace(\" out of \",\"/\"))\n"
   ]
  },
  {
   "cell_type": "code",
   "execution_count": 10,
   "id": "de96de61",
   "metadata": {},
   "outputs": [],
   "source": [
    "df['Helpfulness_Info'] = df['Helpfulness_Info'].apply(lambda x: \"Helpful\" if int(x.split(\"/\")[0])/int(x.split(\"/\")[1]) > 0.8 else \"Unhelpful\")\n"
   ]
  },
  {
   "cell_type": "code",
   "execution_count": 11,
   "id": "f80135fa",
   "metadata": {
    "scrolled": true
   },
   "outputs": [
    {
     "data": {
      "text/html": [
       "<div>\n",
       "<style scoped>\n",
       "    .dataframe tbody tr th:only-of-type {\n",
       "        vertical-align: middle;\n",
       "    }\n",
       "\n",
       "    .dataframe tbody tr th {\n",
       "        vertical-align: top;\n",
       "    }\n",
       "\n",
       "    .dataframe thead th {\n",
       "        text-align: right;\n",
       "    }\n",
       "</style>\n",
       "<table border=\"1\" class=\"dataframe\">\n",
       "  <thead>\n",
       "    <tr style=\"text-align: right;\">\n",
       "      <th></th>\n",
       "      <th>Title</th>\n",
       "      <th>Review</th>\n",
       "      <th>Rating</th>\n",
       "      <th>Helpfulness_Info</th>\n",
       "    </tr>\n",
       "  </thead>\n",
       "  <tbody>\n",
       "    <tr>\n",
       "      <th>0</th>\n",
       "      <td>This filter works PERFECT!</td>\n",
       "      <td>Seriously, I love my Keurig. I love the conven...</td>\n",
       "      <td>Positive</td>\n",
       "      <td>Helpful</td>\n",
       "    </tr>\n",
       "    <tr>\n",
       "      <th>1</th>\n",
       "      <td>This stuff is great for muffins</td>\n",
       "      <td>There's a recipe on the back of the package fo...</td>\n",
       "      <td>Positive</td>\n",
       "      <td>Helpful</td>\n",
       "    </tr>\n",
       "    <tr>\n",
       "      <th>2</th>\n",
       "      <td>Curiously awful</td>\n",
       "      <td>Cola is by far my favorite drink. My wife and ...</td>\n",
       "      <td>Negative</td>\n",
       "      <td>Unhelpful</td>\n",
       "    </tr>\n",
       "    <tr>\n",
       "      <th>3</th>\n",
       "      <td>Rancid!</td>\n",
       "      <td>I love chia, but I have gotten two different p...</td>\n",
       "      <td>Negative</td>\n",
       "      <td>Helpful</td>\n",
       "    </tr>\n",
       "    <tr>\n",
       "      <th>4</th>\n",
       "      <td>They taste like boogers</td>\n",
       "      <td>If you don't like the sound of a salty, vinega...</td>\n",
       "      <td>Negative</td>\n",
       "      <td>Unhelpful</td>\n",
       "    </tr>\n",
       "  </tbody>\n",
       "</table>\n",
       "</div>"
      ],
      "text/plain": [
       "                             Title  \\\n",
       "0       This filter works PERFECT!   \n",
       "1  This stuff is great for muffins   \n",
       "2                  Curiously awful   \n",
       "3                          Rancid!   \n",
       "4          They taste like boogers   \n",
       "\n",
       "                                              Review    Rating  \\\n",
       "0  Seriously, I love my Keurig. I love the conven...  Positive   \n",
       "1  There's a recipe on the back of the package fo...  Positive   \n",
       "2  Cola is by far my favorite drink. My wife and ...  Negative   \n",
       "3  I love chia, but I have gotten two different p...  Negative   \n",
       "4  If you don't like the sound of a salty, vinega...  Negative   \n",
       "\n",
       "  Helpfulness_Info  \n",
       "0          Helpful  \n",
       "1          Helpful  \n",
       "2        Unhelpful  \n",
       "3          Helpful  \n",
       "4        Unhelpful  "
      ]
     },
     "execution_count": 11,
     "metadata": {},
     "output_type": "execute_result"
    }
   ],
   "source": [
    "df.head(5)"
   ]
  },
  {
   "cell_type": "markdown",
   "id": "5003063f",
   "metadata": {},
   "source": [
    "After assigning the appropriate labels for rating and helpfulness information columns, I will concatenate the title and the review body text columns together in a new column and create a set of text documents for further analysis. "
   ]
  },
  {
   "cell_type": "code",
   "execution_count": 12,
   "id": "5405a5f8",
   "metadata": {},
   "outputs": [],
   "source": [
    "df['text'] = df[['Title', 'Review']].apply(lambda x: ' '.join(x), axis=1)"
   ]
  },
  {
   "cell_type": "code",
   "execution_count": 13,
   "id": "cf98d355",
   "metadata": {
    "scrolled": true
   },
   "outputs": [
    {
     "data": {
      "text/html": [
       "<div>\n",
       "<style scoped>\n",
       "    .dataframe tbody tr th:only-of-type {\n",
       "        vertical-align: middle;\n",
       "    }\n",
       "\n",
       "    .dataframe tbody tr th {\n",
       "        vertical-align: top;\n",
       "    }\n",
       "\n",
       "    .dataframe thead th {\n",
       "        text-align: right;\n",
       "    }\n",
       "</style>\n",
       "<table border=\"1\" class=\"dataframe\">\n",
       "  <thead>\n",
       "    <tr style=\"text-align: right;\">\n",
       "      <th></th>\n",
       "      <th>Title</th>\n",
       "      <th>Review</th>\n",
       "      <th>Rating</th>\n",
       "      <th>Helpfulness_Info</th>\n",
       "      <th>text</th>\n",
       "    </tr>\n",
       "  </thead>\n",
       "  <tbody>\n",
       "    <tr>\n",
       "      <th>0</th>\n",
       "      <td>This filter works PERFECT!</td>\n",
       "      <td>Seriously, I love my Keurig. I love the conven...</td>\n",
       "      <td>Positive</td>\n",
       "      <td>Helpful</td>\n",
       "      <td>This filter works PERFECT! Seriously, I love m...</td>\n",
       "    </tr>\n",
       "    <tr>\n",
       "      <th>1</th>\n",
       "      <td>This stuff is great for muffins</td>\n",
       "      <td>There's a recipe on the back of the package fo...</td>\n",
       "      <td>Positive</td>\n",
       "      <td>Helpful</td>\n",
       "      <td>This stuff is great for muffins There's a reci...</td>\n",
       "    </tr>\n",
       "    <tr>\n",
       "      <th>2</th>\n",
       "      <td>Curiously awful</td>\n",
       "      <td>Cola is by far my favorite drink. My wife and ...</td>\n",
       "      <td>Negative</td>\n",
       "      <td>Unhelpful</td>\n",
       "      <td>Curiously awful Cola is by far my favorite dri...</td>\n",
       "    </tr>\n",
       "    <tr>\n",
       "      <th>3</th>\n",
       "      <td>Rancid!</td>\n",
       "      <td>I love chia, but I have gotten two different p...</td>\n",
       "      <td>Negative</td>\n",
       "      <td>Helpful</td>\n",
       "      <td>Rancid! I love chia, but I have gotten two dif...</td>\n",
       "    </tr>\n",
       "    <tr>\n",
       "      <th>4</th>\n",
       "      <td>They taste like boogers</td>\n",
       "      <td>If you don't like the sound of a salty, vinega...</td>\n",
       "      <td>Negative</td>\n",
       "      <td>Unhelpful</td>\n",
       "      <td>They taste like boogers If you don't like the ...</td>\n",
       "    </tr>\n",
       "  </tbody>\n",
       "</table>\n",
       "</div>"
      ],
      "text/plain": [
       "                             Title  \\\n",
       "0       This filter works PERFECT!   \n",
       "1  This stuff is great for muffins   \n",
       "2                  Curiously awful   \n",
       "3                          Rancid!   \n",
       "4          They taste like boogers   \n",
       "\n",
       "                                              Review    Rating  \\\n",
       "0  Seriously, I love my Keurig. I love the conven...  Positive   \n",
       "1  There's a recipe on the back of the package fo...  Positive   \n",
       "2  Cola is by far my favorite drink. My wife and ...  Negative   \n",
       "3  I love chia, but I have gotten two different p...  Negative   \n",
       "4  If you don't like the sound of a salty, vinega...  Negative   \n",
       "\n",
       "  Helpfulness_Info                                               text  \n",
       "0          Helpful  This filter works PERFECT! Seriously, I love m...  \n",
       "1          Helpful  This stuff is great for muffins There's a reci...  \n",
       "2        Unhelpful  Curiously awful Cola is by far my favorite dri...  \n",
       "3          Helpful  Rancid! I love chia, but I have gotten two dif...  \n",
       "4        Unhelpful  They taste like boogers If you don't like the ...  "
      ]
     },
     "execution_count": 13,
     "metadata": {},
     "output_type": "execute_result"
    }
   ],
   "source": [
    "df.head(5)"
   ]
  },
  {
   "cell_type": "code",
   "execution_count": 14,
   "id": "2f14af4b",
   "metadata": {},
   "outputs": [],
   "source": [
    "transformed_df = df[['text', 'Rating', 'Helpfulness_Info']].copy()"
   ]
  },
  {
   "cell_type": "code",
   "execution_count": 15,
   "id": "22ef1247",
   "metadata": {
    "scrolled": true
   },
   "outputs": [
    {
     "data": {
      "text/html": [
       "<div>\n",
       "<style scoped>\n",
       "    .dataframe tbody tr th:only-of-type {\n",
       "        vertical-align: middle;\n",
       "    }\n",
       "\n",
       "    .dataframe tbody tr th {\n",
       "        vertical-align: top;\n",
       "    }\n",
       "\n",
       "    .dataframe thead th {\n",
       "        text-align: right;\n",
       "    }\n",
       "</style>\n",
       "<table border=\"1\" class=\"dataframe\">\n",
       "  <thead>\n",
       "    <tr style=\"text-align: right;\">\n",
       "      <th></th>\n",
       "      <th>text</th>\n",
       "      <th>Rating</th>\n",
       "      <th>Helpfulness_Info</th>\n",
       "    </tr>\n",
       "  </thead>\n",
       "  <tbody>\n",
       "    <tr>\n",
       "      <th>0</th>\n",
       "      <td>This filter works PERFECT! Seriously, I love m...</td>\n",
       "      <td>Positive</td>\n",
       "      <td>Helpful</td>\n",
       "    </tr>\n",
       "    <tr>\n",
       "      <th>1</th>\n",
       "      <td>This stuff is great for muffins There's a reci...</td>\n",
       "      <td>Positive</td>\n",
       "      <td>Helpful</td>\n",
       "    </tr>\n",
       "    <tr>\n",
       "      <th>2</th>\n",
       "      <td>Curiously awful Cola is by far my favorite dri...</td>\n",
       "      <td>Negative</td>\n",
       "      <td>Unhelpful</td>\n",
       "    </tr>\n",
       "    <tr>\n",
       "      <th>3</th>\n",
       "      <td>Rancid! I love chia, but I have gotten two dif...</td>\n",
       "      <td>Negative</td>\n",
       "      <td>Helpful</td>\n",
       "    </tr>\n",
       "    <tr>\n",
       "      <th>4</th>\n",
       "      <td>They taste like boogers If you don't like the ...</td>\n",
       "      <td>Negative</td>\n",
       "      <td>Unhelpful</td>\n",
       "    </tr>\n",
       "  </tbody>\n",
       "</table>\n",
       "</div>"
      ],
      "text/plain": [
       "                                                text    Rating  \\\n",
       "0  This filter works PERFECT! Seriously, I love m...  Positive   \n",
       "1  This stuff is great for muffins There's a reci...  Positive   \n",
       "2  Curiously awful Cola is by far my favorite dri...  Negative   \n",
       "3  Rancid! I love chia, but I have gotten two dif...  Negative   \n",
       "4  They taste like boogers If you don't like the ...  Negative   \n",
       "\n",
       "  Helpfulness_Info  \n",
       "0          Helpful  \n",
       "1          Helpful  \n",
       "2        Unhelpful  \n",
       "3          Helpful  \n",
       "4        Unhelpful  "
      ]
     },
     "execution_count": 15,
     "metadata": {},
     "output_type": "execute_result"
    }
   ],
   "source": [
    "transformed_df.head()"
   ]
  },
  {
   "cell_type": "code",
   "execution_count": 16,
   "id": "4e371128",
   "metadata": {},
   "outputs": [
    {
     "data": {
      "image/png": "[encoded data removed]",
      "text/plain": [
       "<Figure size 432x288 with 1 Axes>"
      ]
     },
     "metadata": {
      "needs_background": "light"
     },
     "output_type": "display_data"
    }
   ],
   "source": [
    "sn.countplot(transformed_df['Rating'])\n",
    "plt.show()"
   ]
  },
  {
   "cell_type": "code",
   "execution_count": 17,
   "id": "37593d33",
   "metadata": {},
   "outputs": [
    {
     "data": {
      "image/png": "[encoded data removed]",
      "text/plain": [
       "<Figure size 432x288 with 1 Axes>"
      ]
     },
     "metadata": {
      "needs_background": "light"
     },
     "output_type": "display_data"
    }
   ],
   "source": [
    "sn.countplot(transformed_df['Helpfulness_Info'])\n",
    "plt.show()"
   ]
  },
  {
   "cell_type": "markdown",
   "id": "f83c0a0a",
   "metadata": {},
   "source": [
    "Now, I have successfully cleaned the raw csv data into more usable text documents with rating and helpfulness labels. These frames will be fed into the pre processing step to transform it into a numeric representation, suitable for classification."
   ]
  },
  {
   "cell_type": "markdown",
   "id": "3fba6702",
   "metadata": {},
   "source": [
    "### Data Pre - Processing:"
   ]
  },
  {
   "cell_type": "markdown",
   "id": "6db3ce95",
   "metadata": {},
   "source": [
    "__Pre-Processing:__\n",
    "\n",
    "Following pre-processing and feature engineering steps will be applied on the data:\n",
    "\n",
    "    1. Normalization\n",
    "    1. Lemmatization\n",
    "    2. Stopword removal\n",
    "    3. Minimum document frequency\n",
    "    4. TF-IDF Vectorization"
   ]
  },
  {
   "cell_type": "markdown",
   "id": "9e6e82af",
   "metadata": {},
   "source": [
    "Function to normalize the text data which includes changing text to lower case and removal of punctuation."
   ]
  },
  {
   "cell_type": "code",
   "execution_count": 18,
   "id": "4bfb4f17",
   "metadata": {},
   "outputs": [],
   "source": [
    "# Normalisation Step\n",
    "def normalize_data(df):\n",
    "    for i in range(len(df)):\n",
    "        df.loc[i,'text'] = \"\".join([word.lower() for word in df.loc[i,'text'] if word not in string.punctuation])\n",
    "    return df"
   ]
  },
  {
   "cell_type": "markdown",
   "id": "63bdd601",
   "metadata": {},
   "source": [
    "__Lemmatization:__\n",
    "\n",
    "There are two approaches for finding the root form of a word as below:\n",
    "\n",
    "    i. Stemming \n",
    "    ii. Lemmatization\n",
    "    \n",
    " __Stemming__ is a rudimentary procedure that cuts off the ends of words in the expectation of accomplishing this objective,but often leads to incorrect meanings and spellings. __Lemmatization__ is a term that refers to doing things correctly via the use of a vocabulary and morphological study of words, with the goal of removing only inflectional ends and returning a word to its base or meaningful form.\n",
    " \n",
    "Therefore, the below function would make use of WordNetLemmatizer to pre-process the documents "
   ]
  },
  {
   "cell_type": "code",
   "execution_count": 19,
   "id": "9c635b1f",
   "metadata": {},
   "outputs": [],
   "source": [
    "# Lemmatisation Step\n",
    "def lemmatize_data(df):\n",
    "    lemmatizer = WordNetLemmatizer()\n",
    "    for i in range(len(df)):\n",
    "        df.loc[i,'text'] = lemmatizer.lemmatize(df.loc[i,'text'])\n",
    "    return df"
   ]
  },
  {
   "cell_type": "code",
   "execution_count": 20,
   "id": "c0ee3a08",
   "metadata": {},
   "outputs": [],
   "source": [
    "normalized_df = normalize_data(transformed_df)\n",
    "lemmatized_df = lemmatize_data(normalized_df)"
   ]
  },
  {
   "cell_type": "code",
   "execution_count": 21,
   "id": "daa2be0d",
   "metadata": {
    "scrolled": false
   },
   "outputs": [
    {
     "data": {
      "text/html": [
       "<div>\n",
       "<style scoped>\n",
       "    .dataframe tbody tr th:only-of-type {\n",
       "        vertical-align: middle;\n",
       "    }\n",
       "\n",
       "    .dataframe tbody tr th {\n",
       "        vertical-align: top;\n",
       "    }\n",
       "\n",
       "    .dataframe thead th {\n",
       "        text-align: right;\n",
       "    }\n",
       "</style>\n",
       "<table border=\"1\" class=\"dataframe\">\n",
       "  <thead>\n",
       "    <tr style=\"text-align: right;\">\n",
       "      <th></th>\n",
       "      <th>text</th>\n",
       "      <th>Rating</th>\n",
       "      <th>Helpfulness_Info</th>\n",
       "    </tr>\n",
       "  </thead>\n",
       "  <tbody>\n",
       "    <tr>\n",
       "      <th>0</th>\n",
       "      <td>this filter works perfect seriously i love my ...</td>\n",
       "      <td>Positive</td>\n",
       "      <td>Helpful</td>\n",
       "    </tr>\n",
       "    <tr>\n",
       "      <th>1</th>\n",
       "      <td>this stuff is great for muffins theres a recip...</td>\n",
       "      <td>Positive</td>\n",
       "      <td>Helpful</td>\n",
       "    </tr>\n",
       "    <tr>\n",
       "      <th>2</th>\n",
       "      <td>curiously awful cola is by far my favorite dri...</td>\n",
       "      <td>Negative</td>\n",
       "      <td>Unhelpful</td>\n",
       "    </tr>\n",
       "    <tr>\n",
       "      <th>3</th>\n",
       "      <td>rancid i love chia but i have gotten two diffe...</td>\n",
       "      <td>Negative</td>\n",
       "      <td>Helpful</td>\n",
       "    </tr>\n",
       "    <tr>\n",
       "      <th>4</th>\n",
       "      <td>they taste like boogers if you dont like the s...</td>\n",
       "      <td>Negative</td>\n",
       "      <td>Unhelpful</td>\n",
       "    </tr>\n",
       "  </tbody>\n",
       "</table>\n",
       "</div>"
      ],
      "text/plain": [
       "                                                text    Rating  \\\n",
       "0  this filter works perfect seriously i love my ...  Positive   \n",
       "1  this stuff is great for muffins theres a recip...  Positive   \n",
       "2  curiously awful cola is by far my favorite dri...  Negative   \n",
       "3  rancid i love chia but i have gotten two diffe...  Negative   \n",
       "4  they taste like boogers if you dont like the s...  Negative   \n",
       "\n",
       "  Helpfulness_Info  \n",
       "0          Helpful  \n",
       "1          Helpful  \n",
       "2        Unhelpful  \n",
       "3          Helpful  \n",
       "4        Unhelpful  "
      ]
     },
     "execution_count": 21,
     "metadata": {},
     "output_type": "execute_result"
    }
   ],
   "source": [
    "lemmatized_df.head(5)"
   ]
  },
  {
   "cell_type": "markdown",
   "id": "74dfc6a1",
   "metadata": {},
   "source": [
    "__Stop Word Removal:__\n",
    "\n",
    "This is a pre-processing technique to remove the commonly used words in any language. For instance, prepositions, determinars in English Language. These words do not convey any meaning and they don't help in adding any context to the text document.\n",
    "\n",
    "\n",
    "__Minimum Document Frequency:__\n",
    "\n",
    "`min_df` is used for removing terms that appear less frequently. I am setting this value as 5 because the corpus is not too large.\n",
    "\n",
    "__NGram Range:__\n",
    "\n",
    "`ngram_range` is used for providing a upper and lower range for ngram considerations while creating the vector matrix. I have selected upto bigrams because certain words always occur together.\n",
    "\n",
    "\n",
    "__TF-IDF Vectorization:__\n",
    "\n",
    "`Tf-idf` stands for term frequency-inverse document frequency. This calculates the term frequency in a particular document and the overall corpus and weights more for the terms which are infrequent overall.\n",
    "\n",
    "Rather than using `countVectorizer` to convert a collection of text documents to a matrix of token counts and then applying idf score to find `tf-idf` This can be achieved directly using __TfidfVectorizer__.\n",
    "Similarly there is __Word2Vec__ which allows mapping of similar meaning words to have similar vector matrix\n"
   ]
  },
  {
   "cell_type": "code",
   "execution_count": 22,
   "id": "40a2ed3e",
   "metadata": {},
   "outputs": [
    {
     "name": "stdout",
     "output_type": "stream",
     "text": [
      "Reviews in vectorized dataframe has 29387 distinct terms\n"
     ]
    }
   ],
   "source": [
    "# Running the Tf-IDF Vectorizer with stop word removal, minimum document frequency and n-gram range of 2\n",
    "vectorizerModel = TfidfVectorizer(stop_words=\"english\",min_df=5,ngram_range=(1, 2))\n",
    "\n",
    "# Storing review text and rating labels separately\n",
    "reviewDocuments = lemmatized_df['text'].tolist()\n",
    "rating_labels = lemmatized_df['Rating'].tolist()\n",
    "helpfulness_labels = lemmatized_df['Helpfulness_Info'].tolist()\n",
    "\n",
    "# Generating TF-IDF matrix\n",
    "vectorized_df = vectorizerModel.fit_transform(reviewDocuments)\n",
    "rating_df = pd.DataFrame(vectorized_df.todense(), columns = vectorizerModel.get_feature_names())\n",
    "rating_df['Label'] = rating_labels\n",
    "\n",
    "helpfulness_df = pd.DataFrame(vectorized_df.todense(), columns = vectorizerModel.get_feature_names())\n",
    "helpfulness_df['Label'] = helpfulness_labels\n",
    "\n",
    "# Distinct terms in the review\n",
    "terms = vectorizerModel.get_feature_names()\n",
    "print(\"Reviews in {} has {} distinct terms\" .format(\"vectorized dataframe\",len(terms)))\n"
   ]
  },
  {
   "cell_type": "code",
   "execution_count": 23,
   "id": "daf7f62c",
   "metadata": {
    "scrolled": true
   },
   "outputs": [
    {
     "data": {
      "text/html": [
       "<div>\n",
       "<style scoped>\n",
       "    .dataframe tbody tr th:only-of-type {\n",
       "        vertical-align: middle;\n",
       "    }\n",
       "\n",
       "    .dataframe tbody tr th {\n",
       "        vertical-align: top;\n",
       "    }\n",
       "\n",
       "    .dataframe thead th {\n",
       "        text-align: right;\n",
       "    }\n",
       "</style>\n",
       "<table border=\"1\" class=\"dataframe\">\n",
       "  <thead>\n",
       "    <tr style=\"text-align: right;\">\n",
       "      <th></th>\n",
       "      <th>00004</th>\n",
       "      <th>00004 brita</th>\n",
       "      <th>0014</th>\n",
       "      <th>0014 sodastream</th>\n",
       "      <th>00373</th>\n",
       "      <th>00373 water</th>\n",
       "      <th>00377</th>\n",
       "      <th>00377 assumes</th>\n",
       "      <th>018</th>\n",
       "      <th>018 water</th>\n",
       "      <th>...</th>\n",
       "      <th>zoloft really</th>\n",
       "      <th>zone</th>\n",
       "      <th>zp</th>\n",
       "      <th>zp bowl</th>\n",
       "      <th>zp canned</th>\n",
       "      <th>zp close</th>\n",
       "      <th>zp figuring</th>\n",
       "      <th>zucchini</th>\n",
       "      <th>zukes</th>\n",
       "      <th>Label</th>\n",
       "    </tr>\n",
       "  </thead>\n",
       "  <tbody>\n",
       "    <tr>\n",
       "      <th>0</th>\n",
       "      <td>0.0</td>\n",
       "      <td>0.0</td>\n",
       "      <td>0.0</td>\n",
       "      <td>0.0</td>\n",
       "      <td>0.0</td>\n",
       "      <td>0.0</td>\n",
       "      <td>0.0</td>\n",
       "      <td>0.0</td>\n",
       "      <td>0.0</td>\n",
       "      <td>0.0</td>\n",
       "      <td>...</td>\n",
       "      <td>0.0</td>\n",
       "      <td>0.0</td>\n",
       "      <td>0.0</td>\n",
       "      <td>0.0</td>\n",
       "      <td>0.0</td>\n",
       "      <td>0.0</td>\n",
       "      <td>0.0</td>\n",
       "      <td>0.0</td>\n",
       "      <td>0.0</td>\n",
       "      <td>Positive</td>\n",
       "    </tr>\n",
       "    <tr>\n",
       "      <th>1</th>\n",
       "      <td>0.0</td>\n",
       "      <td>0.0</td>\n",
       "      <td>0.0</td>\n",
       "      <td>0.0</td>\n",
       "      <td>0.0</td>\n",
       "      <td>0.0</td>\n",
       "      <td>0.0</td>\n",
       "      <td>0.0</td>\n",
       "      <td>0.0</td>\n",
       "      <td>0.0</td>\n",
       "      <td>...</td>\n",
       "      <td>0.0</td>\n",
       "      <td>0.0</td>\n",
       "      <td>0.0</td>\n",
       "      <td>0.0</td>\n",
       "      <td>0.0</td>\n",
       "      <td>0.0</td>\n",
       "      <td>0.0</td>\n",
       "      <td>0.0</td>\n",
       "      <td>0.0</td>\n",
       "      <td>Positive</td>\n",
       "    </tr>\n",
       "    <tr>\n",
       "      <th>2</th>\n",
       "      <td>0.0</td>\n",
       "      <td>0.0</td>\n",
       "      <td>0.0</td>\n",
       "      <td>0.0</td>\n",
       "      <td>0.0</td>\n",
       "      <td>0.0</td>\n",
       "      <td>0.0</td>\n",
       "      <td>0.0</td>\n",
       "      <td>0.0</td>\n",
       "      <td>0.0</td>\n",
       "      <td>...</td>\n",
       "      <td>0.0</td>\n",
       "      <td>0.0</td>\n",
       "      <td>0.0</td>\n",
       "      <td>0.0</td>\n",
       "      <td>0.0</td>\n",
       "      <td>0.0</td>\n",
       "      <td>0.0</td>\n",
       "      <td>0.0</td>\n",
       "      <td>0.0</td>\n",
       "      <td>Negative</td>\n",
       "    </tr>\n",
       "    <tr>\n",
       "      <th>3</th>\n",
       "      <td>0.0</td>\n",
       "      <td>0.0</td>\n",
       "      <td>0.0</td>\n",
       "      <td>0.0</td>\n",
       "      <td>0.0</td>\n",
       "      <td>0.0</td>\n",
       "      <td>0.0</td>\n",
       "      <td>0.0</td>\n",
       "      <td>0.0</td>\n",
       "      <td>0.0</td>\n",
       "      <td>...</td>\n",
       "      <td>0.0</td>\n",
       "      <td>0.0</td>\n",
       "      <td>0.0</td>\n",
       "      <td>0.0</td>\n",
       "      <td>0.0</td>\n",
       "      <td>0.0</td>\n",
       "      <td>0.0</td>\n",
       "      <td>0.0</td>\n",
       "      <td>0.0</td>\n",
       "      <td>Negative</td>\n",
       "    </tr>\n",
       "    <tr>\n",
       "      <th>4</th>\n",
       "      <td>0.0</td>\n",
       "      <td>0.0</td>\n",
       "      <td>0.0</td>\n",
       "      <td>0.0</td>\n",
       "      <td>0.0</td>\n",
       "      <td>0.0</td>\n",
       "      <td>0.0</td>\n",
       "      <td>0.0</td>\n",
       "      <td>0.0</td>\n",
       "      <td>0.0</td>\n",
       "      <td>...</td>\n",
       "      <td>0.0</td>\n",
       "      <td>0.0</td>\n",
       "      <td>0.0</td>\n",
       "      <td>0.0</td>\n",
       "      <td>0.0</td>\n",
       "      <td>0.0</td>\n",
       "      <td>0.0</td>\n",
       "      <td>0.0</td>\n",
       "      <td>0.0</td>\n",
       "      <td>Negative</td>\n",
       "    </tr>\n",
       "  </tbody>\n",
       "</table>\n",
       "<p>5 rows × 29388 columns</p>\n",
       "</div>"
      ],
      "text/plain": [
       "   00004  00004 brita  0014  0014 sodastream  00373  00373 water  00377  \\\n",
       "0    0.0          0.0   0.0              0.0    0.0          0.0    0.0   \n",
       "1    0.0          0.0   0.0              0.0    0.0          0.0    0.0   \n",
       "2    0.0          0.0   0.0              0.0    0.0          0.0    0.0   \n",
       "3    0.0          0.0   0.0              0.0    0.0          0.0    0.0   \n",
       "4    0.0          0.0   0.0              0.0    0.0          0.0    0.0   \n",
       "\n",
       "   00377 assumes  018  018 water  ...  zoloft really  zone   zp  zp bowl  \\\n",
       "0            0.0  0.0        0.0  ...            0.0   0.0  0.0      0.0   \n",
       "1            0.0  0.0        0.0  ...            0.0   0.0  0.0      0.0   \n",
       "2            0.0  0.0        0.0  ...            0.0   0.0  0.0      0.0   \n",
       "3            0.0  0.0        0.0  ...            0.0   0.0  0.0      0.0   \n",
       "4            0.0  0.0        0.0  ...            0.0   0.0  0.0      0.0   \n",
       "\n",
       "   zp canned  zp close  zp figuring  zucchini  zukes     Label  \n",
       "0        0.0       0.0          0.0       0.0    0.0  Positive  \n",
       "1        0.0       0.0          0.0       0.0    0.0  Positive  \n",
       "2        0.0       0.0          0.0       0.0    0.0  Negative  \n",
       "3        0.0       0.0          0.0       0.0    0.0  Negative  \n",
       "4        0.0       0.0          0.0       0.0    0.0  Negative  \n",
       "\n",
       "[5 rows x 29388 columns]"
      ]
     },
     "execution_count": 23,
     "metadata": {},
     "output_type": "execute_result"
    }
   ],
   "source": [
    "rating_df.head(5)"
   ]
  },
  {
   "cell_type": "markdown",
   "id": "8ade8b57",
   "metadata": {},
   "source": [
    "Now, I have successfully pre-processed the text documents and created two different dataframes, one with rating labels and other with helpfulness labels."
   ]
  },
  {
   "cell_type": "markdown",
   "id": "0ad7fd5d",
   "metadata": {},
   "source": [
    "### Review Sentiment Classification:"
   ]
  },
  {
   "cell_type": "markdown",
   "id": "bcf54bf5",
   "metadata": {},
   "source": [
    "__Training and Testing Datasets__\n",
    "\n",
    "Using `train_test_split` function with a splitting criteria of 70%-30% to generate trainig and testing datasets for the sentiment classification."
   ]
  },
  {
   "cell_type": "code",
   "execution_count": 24,
   "id": "0eb37d31",
   "metadata": {},
   "outputs": [],
   "source": [
    "X_train, X_test, y_train, y_test = train_test_split(rating_df.iloc[:,:-1], rating_df.iloc[:,-1], test_size=0.30)\n"
   ]
  },
  {
   "cell_type": "markdown",
   "id": "83c5c8ff",
   "metadata": {},
   "source": [
    "Reviewing the distribution of labels within the training dataset"
   ]
  },
  {
   "cell_type": "code",
   "execution_count": 25,
   "id": "91e08371",
   "metadata": {
    "scrolled": true
   },
   "outputs": [
    {
     "data": {
      "image/png": "[encoded data removed]",
      "text/plain": [
       "<Figure size 432x288 with 1 Axes>"
      ]
     },
     "metadata": {
      "needs_background": "light"
     },
     "output_type": "display_data"
    }
   ],
   "source": [
    "sn.countplot(y_train)\n",
    "plt.show()"
   ]
  },
  {
   "cell_type": "markdown",
   "id": "57dd8e64",
   "metadata": {},
   "source": [
    "__Building Classification Models__"
   ]
  },
  {
   "cell_type": "markdown",
   "id": "60e8d2df",
   "metadata": {},
   "source": [
    "Generating models using multiple classification algorithms together and then plotting accuracy results to see which one performs better. \n",
    "- Random Forest\n",
    "- K Nearest Neighbours\n",
    "- Linear Support Vector\n",
    "- Decision Tree\n",
    "- Multinomial Naive Bayes\n",
    "- Logictic Regression"
   ]
  },
  {
   "cell_type": "code",
   "execution_count": 26,
   "id": "839a2f0d",
   "metadata": {},
   "outputs": [],
   "source": [
    "def classifier_mixup(dataframe):\n",
    "    # Defining six different classification models\n",
    "    models = [\n",
    "        RandomForestClassifier(n_estimators=200, max_depth=3, random_state=0),\n",
    "        KNeighborsClassifier(n_neighbors=3),\n",
    "        LinearSVC(),\n",
    "        DecisionTreeClassifier(),\n",
    "        MultinomialNB(),\n",
    "        LogisticRegression(random_state=0)]\n",
    "\n",
    "    # Defining variables\n",
    "    cvdf = pd.DataFrame(index = range(5 * len(models)))\n",
    "    figures = []\n",
    "\n",
    "    # Running models and calculating accuracies using cross val score with cv as 5\n",
    "    for model in models:\n",
    "        model_name = model.__class__.__name__\n",
    "        cvs = cross_val_score(model, dataframe.iloc[:,:-1], dataframe.iloc[:,-1], scoring='accuracy', cv=5)\n",
    "        for num_f, accuracy in enumerate(cvs):\n",
    "            figures.append((model_name, num_f, accuracy))\n",
    "\n",
    "    cvdf = pd.DataFrame(figures, columns=['model_name', 'num_f', 'accuracy'])\n",
    "    \n",
    "    # Creating a strip plot with accuracies from all the models\n",
    "    fig, ax = plt.subplots(figsize=(25,15))\n",
    "    sn.boxplot(x='model_name', y='accuracy', data=cvdf, ax=ax)\n",
    "    sn.stripplot(x='model_name', y='accuracy', data=cvdf, size=15, jitter=True, edgecolor=\"gray\", linewidth=2, ax=ax)\n",
    "    plt.title(\"Model Accuracy Comparison\", fontsize=15)\n",
    "    plt.rcParams.update({'font.size': 10})\n",
    "    plt.show()\n",
    "    \n",
    "    return cvdf"
   ]
  },
  {
   "cell_type": "markdown",
   "id": "d61072c9",
   "metadata": {},
   "source": [
    "Note: Running the below step would take a few minutes (6-7 minutes) because it trains and calculates the accuracy for various classification models together"
   ]
  },
  {
   "cell_type": "code",
   "execution_count": 27,
   "id": "1f6257a3",
   "metadata": {},
   "outputs": [
    {
     "data": {
      "image/png": "[encoded data removed]",
      "text/plain": [
       "<Figure size 1800x1080 with 1 Axes>"
      ]
     },
     "metadata": {
      "needs_background": "light"
     },
     "output_type": "display_data"
    }
   ],
   "source": [
    "cvdf = classifier_mixup(rating_df)"
   ]
  },
  {
   "cell_type": "code",
   "execution_count": 28,
   "id": "112b0f57",
   "metadata": {},
   "outputs": [
    {
     "data": {
      "text/plain": [
       "model_name\n",
       "DecisionTreeClassifier    0.794029\n",
       "KNeighborsClassifier      0.742969\n",
       "LinearSVC                 0.882844\n",
       "LogisticRegression        0.867266\n",
       "MultinomialNB             0.816531\n",
       "RandomForestClassifier    0.575725\n",
       "Name: accuracy, dtype: float64"
      ]
     },
     "execution_count": 28,
     "metadata": {},
     "output_type": "execute_result"
    }
   ],
   "source": [
    "# Mean accuarcy per model\n",
    "cvdf.groupby('model_name').accuracy.mean()"
   ]
  },
  {
   "cell_type": "markdown",
   "id": "f9f70d94",
   "metadata": {},
   "source": [
    "The plot and the mean accuracy table above shows that the __Linear Support Vector Machine__ performs best amongst all the models followed by __Logistic Regression__ Model."
   ]
  },
  {
   "cell_type": "markdown",
   "id": "24163ab0",
   "metadata": {},
   "source": [
    "__Logistic Regression Model__\n",
    "\n",
    "It uses weighted combination of features and then passes it into the sigmoid function."
   ]
  },
  {
   "cell_type": "code",
   "execution_count": 29,
   "id": "71da7849",
   "metadata": {
    "scrolled": true
   },
   "outputs": [
    {
     "name": "stdout",
     "output_type": "stream",
     "text": [
      "Accuracy Score with Logistic Regression:85.40014419610671 \n",
      "\n"
     ]
    }
   ],
   "source": [
    "# Building and training the classifier\n",
    "lr_model = LogisticRegression()\n",
    "lr_model.fit(X_train, y_train)\n",
    "\n",
    "# Testing the classifier\n",
    "y_pred = lr_model.predict(X_test)\n",
    "\n",
    "# Accuracy\n",
    "chk_acc = accuracy_score(y_pred, y_test)\n",
    "print('Accuracy Score with Logistic Regression:{} \\n'.format(chk_acc*100))"
   ]
  },
  {
   "cell_type": "code",
   "execution_count": 30,
   "id": "e91dc0c4",
   "metadata": {},
   "outputs": [
    {
     "name": "stdout",
     "output_type": "stream",
     "text": [
      "Classification Report for Logistic Regression Model:\n",
      "              precision    recall  f1-score   support\n",
      "\n",
      "    Negative       0.88      0.76      0.82      1189\n",
      "    Positive       0.84      0.93      0.88      1585\n",
      "\n",
      "    accuracy                           0.85      2774\n",
      "   macro avg       0.86      0.84      0.85      2774\n",
      "weighted avg       0.86      0.85      0.85      2774\n",
      "\n"
     ]
    },
    {
     "data": {
      "image/png": "[encoded data removed]",
      "text/plain": [
       "<Figure size 360x360 with 1 Axes>"
      ]
     },
     "metadata": {
      "needs_background": "light"
     },
     "output_type": "display_data"
    }
   ],
   "source": [
    "# Creating confusion matrix and classification report for the model\n",
    "con_mat = confusion_matrix(y_test, y_pred)\n",
    "creport = classification_report(y_test, y_pred)\n",
    "print(\"Classification Report for Logistic Regression Model:\\n{}\".format(creport))\n",
    "\n",
    "# Plotting the results\n",
    "fig, ax = plt.subplots(figsize=(5,5))\n",
    "sn.heatmap(con_mat, annot=True, cbar = False, fmt = 'd')\n",
    "plt.ylabel('Actual')\n",
    "plt.xlabel('Predicted')\n",
    "plt.show()"
   ]
  },
  {
   "cell_type": "markdown",
   "id": "ed3a1321",
   "metadata": {},
   "source": [
    "__Linear Stochastic Gradient Descent__\n",
    "\n",
    "Linear SGD and Linear SVC are widely considered as the best text classification algorithms. It is so because text is often linearly separable and they have a lot of features making it high dimension."
   ]
  },
  {
   "cell_type": "code",
   "execution_count": 31,
   "id": "f341ab1c",
   "metadata": {},
   "outputs": [
    {
     "name": "stdout",
     "output_type": "stream",
     "text": [
      "Accuracy Score with Linear SGD:87.41888968997837 \n",
      "\n"
     ]
    }
   ],
   "source": [
    "# Building and training the classifier\n",
    "sgd_model = SGDClassifier()\n",
    "sgd_model.fit(X_train, y_train)\n",
    "\n",
    "# Testing the classifier\n",
    "y_pred = sgd_model.predict(X_test)\n",
    "\n",
    "# Accuracy\n",
    "chk_acc = accuracy_score(y_pred, y_test)\n",
    "print('Accuracy Score with Linear SGD:{} \\n'.format(chk_acc*100))"
   ]
  },
  {
   "cell_type": "markdown",
   "id": "e4eec6fa",
   "metadata": {},
   "source": [
    "Using `Pipeline` to implement the SGD classification model which uses different pre processing techniques as `Count Vectorizer` and `TF-IDF Transformer`"
   ]
  },
  {
   "cell_type": "code",
   "execution_count": 32,
   "id": "173d5652",
   "metadata": {},
   "outputs": [
    {
     "name": "stdout",
     "output_type": "stream",
     "text": [
      "Overall mean accuracy with Linear SGD:0.88\n"
     ]
    }
   ],
   "source": [
    "pipeline_sgd = Pipeline([('vec', CountVectorizer(stop_words=\"english\")),\n",
    "                    ('tfidf', TfidfTransformer(use_idf=True)),\n",
    "                    ('clf', SGDClassifier())\n",
    "                    ])\n",
    "acc_scores = cross_val_score(pipeline_sgd, lemmatized_df.iloc[:,0], lemmatized_df.iloc[:,1],\n",
    "cv=10, scoring=\"accuracy\")\n",
    "\n",
    "print(\"Overall mean accuracy with Linear SGD:%.2f\" %acc_scores.mean())"
   ]
  },
  {
   "cell_type": "markdown",
   "id": "e1df598f",
   "metadata": {},
   "source": [
    "Both general SGD classifier and the pipeline implementation for sgd classifiers are performing similarly in terms of their accuracy scores."
   ]
  },
  {
   "cell_type": "code",
   "execution_count": 33,
   "id": "a351251b",
   "metadata": {},
   "outputs": [
    {
     "name": "stdout",
     "output_type": "stream",
     "text": [
      "Classification Report for SGD Classification Model:\n",
      "              precision    recall  f1-score   support\n",
      "\n",
      "    Negative       0.87      0.83      0.85      1189\n",
      "    Positive       0.88      0.90      0.89      1585\n",
      "\n",
      "    accuracy                           0.87      2774\n",
      "   macro avg       0.87      0.87      0.87      2774\n",
      "weighted avg       0.87      0.87      0.87      2774\n",
      "\n"
     ]
    },
    {
     "data": {
      "image/png": "[encoded data removed]",
      "text/plain": [
       "<Figure size 360x360 with 1 Axes>"
      ]
     },
     "metadata": {
      "needs_background": "light"
     },
     "output_type": "display_data"
    }
   ],
   "source": [
    "# Creating confusion matrix and classification report for the model\n",
    "con_mat = confusion_matrix(y_test, y_pred)\n",
    "creport = classification_report(y_test, y_pred)\n",
    "print(\"Classification Report for SGD Classification Model:\\n{}\".format(creport))\n",
    "\n",
    "# Plotting the results\n",
    "fig, ax = plt.subplots(figsize=(5,5))\n",
    "sn.heatmap(con_mat, annot=True, cbar = False, fmt = 'd')\n",
    "plt.ylabel('Actual')\n",
    "plt.xlabel('Predicted')\n",
    "plt.show()"
   ]
  },
  {
   "cell_type": "markdown",
   "id": "5df82ca6",
   "metadata": {},
   "source": [
    "__Linear Support Vector Machine__"
   ]
  },
  {
   "cell_type": "code",
   "execution_count": 34,
   "id": "1e8cf7aa",
   "metadata": {},
   "outputs": [
    {
     "name": "stdout",
     "output_type": "stream",
     "text": [
      "Accuracy Score with Linear Support Vector Machine:87.7072819033886 \n",
      "\n"
     ]
    }
   ],
   "source": [
    "# Building and training the classifier\n",
    "svc_model = LinearSVC()\n",
    "svc_model.fit(X_train, y_train)\n",
    "\n",
    "# Testing the classifier\n",
    "y_pred = svc_model.predict(X_test)\n",
    "\n",
    "# Accuracy\n",
    "chk_acc = accuracy_score(y_pred, y_test)\n",
    "print('Accuracy Score with Linear Support Vector Machine:{} \\n'.format(chk_acc*100))"
   ]
  },
  {
   "cell_type": "code",
   "execution_count": 35,
   "id": "02c2b3cc",
   "metadata": {
    "scrolled": true
   },
   "outputs": [
    {
     "name": "stdout",
     "output_type": "stream",
     "text": [
      "Classification Report for Support Vector Machine Model:\n",
      "              precision    recall  f1-score   support\n",
      "\n",
      "    Negative       0.87      0.83      0.85      1189\n",
      "    Positive       0.88      0.91      0.89      1585\n",
      "\n",
      "    accuracy                           0.88      2774\n",
      "   macro avg       0.88      0.87      0.87      2774\n",
      "weighted avg       0.88      0.88      0.88      2774\n",
      "\n"
     ]
    },
    {
     "data": {
      "image/png": "[encoded data removed]",
      "text/plain": [
       "<Figure size 360x360 with 1 Axes>"
      ]
     },
     "metadata": {
      "needs_background": "light"
     },
     "output_type": "display_data"
    }
   ],
   "source": [
    "# Creating confusion matrix and classification report for the model\n",
    "con_mat = confusion_matrix(y_test, y_pred)\n",
    "creport = classification_report(y_test, y_pred)\n",
    "print(\"Classification Report for Support Vector Machine Model:\\n{}\".format(creport))\n",
    "\n",
    "# Plotting the results\n",
    "fig, ax = plt.subplots(figsize=(5,5))\n",
    "sn.heatmap(con_mat, annot=True, cbar = False, fmt = 'd')\n",
    "plt.ylabel('Actual')\n",
    "plt.xlabel('Predicted')\n",
    "plt.show()"
   ]
  },
  {
   "cell_type": "markdown",
   "id": "12bccf3f",
   "metadata": {},
   "source": [
    "### Performance Comparison and Evaluation Strategies"
   ]
  },
  {
   "cell_type": "markdown",
   "id": "e8be28dc",
   "metadata": {},
   "source": [
    "I have used accuracy scores, confusion matrix and a classification report above to evaluate certain classifiers and below I'll be creating k-fold cross validation to evaluate different classification models."
   ]
  },
  {
   "cell_type": "markdown",
   "id": "1e380271",
   "metadata": {},
   "source": [
    "According to __the accuracy score__, __Linear SVC__ is performing the best with __87.7%__ accuracy followed by __SGD classifier__ with __87.4%__ accuracy and then __Logistic Regression__ model with __85.4%__ accuracy."
   ]
  },
  {
   "cell_type": "markdown",
   "id": "4bfd1944",
   "metadata": {},
   "source": [
    "According to the __classification report__ which shows precision, recall, F1 score and support values, SGD classifier and SVC classifier are performing equally well with good values of negative and positive review prediction as shown by precision/recall scores ranging from 85%-90%\n",
    "\n",
    "Precision helps in measuring the exactness of a classifier because it measures how well the false positives are getting reduced through the model. Whereas Recall measures the completeness where it is more inclined towards measuring false negatives. Thus F1-Score is a good measure which gives equal weightage to both precision and recall and helps in evaluating a text classifier from both perspectives. Thus, SVC shows the highest F1-Score followed by SGD and logistic regression.\n",
    "\n",
    "On the other hand, Confusion matrix is showing the similar classification report data in terms of exact numbers."
   ]
  },
  {
   "cell_type": "markdown",
   "id": "8d96949a",
   "metadata": {},
   "source": [
    "__Cross Validation__ <br>\n",
    "Let's see how well the classifier works with cross validation which is a great strategy in performance evaluation because it helps in minimising the chance of overfitting."
   ]
  },
  {
   "cell_type": "code",
   "execution_count": 36,
   "id": "cb7fce20",
   "metadata": {},
   "outputs": [
    {
     "name": "stdout",
     "output_type": "stream",
     "text": [
      "Fold 1 ->     0.873261\n",
      "Fold 2 ->     0.880989\n",
      "Fold 3 ->     0.890263\n",
      "Fold 4 ->     0.897991\n",
      "Fold 5 ->     0.896445\n",
      "Fold 6 ->     0.877898\n",
      "Fold 7 ->     0.871716\n",
      "Fold 8 ->     0.882535\n",
      "Fold 9 ->     0.884080\n",
      "Fold 10 ->    0.896445\n",
      "dtype: float64\n",
      "Mean accuracy for SVC using 10-Fold CV-> 0.8852\n"
     ]
    }
   ],
   "source": [
    "# 10-Fold Cross Validation\n",
    "svc_model = LinearSVC()\n",
    "cv_acc = cross_val_score(svc_model, X_train, y_train, cv=10, scoring=\"accuracy\")\n",
    "\n",
    "folds = [ \"Fold %d ->\" % i for i in range(1,len(cv_acc)+1) ]\n",
    "acc_series = pd.Series(cv_acc, index = folds)\n",
    "print(acc_series)\n",
    "\n",
    "print(\"Mean accuracy for SVC using 10-Fold CV-> %.4f\" % acc_series.mean() )"
   ]
  },
  {
   "cell_type": "code",
   "execution_count": 37,
   "id": "1032511a",
   "metadata": {},
   "outputs": [
    {
     "name": "stdout",
     "output_type": "stream",
     "text": [
      "Fold 1 ->     0.876352\n",
      "Fold 2 ->     0.879444\n",
      "Fold 3 ->     0.888717\n",
      "Fold 4 ->     0.890263\n",
      "Fold 5 ->     0.888717\n",
      "Fold 6 ->     0.882535\n",
      "Fold 7 ->     0.862442\n",
      "Fold 8 ->     0.882535\n",
      "Fold 9 ->     0.876352\n",
      "Fold 10 ->    0.890263\n",
      "dtype: float64\n",
      "Mean accuracy for SGD using 10-Fold CV-> 0.8818\n"
     ]
    }
   ],
   "source": [
    "# 10-Fold Cross Validation\n",
    "sgd_model = SGDClassifier()\n",
    "cv_acc = cross_val_score(sgd_model, X_train, y_train, cv=10, scoring=\"accuracy\")\n",
    "\n",
    "folds = [ \"Fold %d ->\" % i for i in range(1,len(cv_acc)+1) ]\n",
    "acc_series = pd.Series(cv_acc, index = folds)\n",
    "print(acc_series)\n",
    "\n",
    "print(\"Mean accuracy for SGD using 10-Fold CV-> %.4f\" % acc_series.mean() )"
   ]
  },
  {
   "cell_type": "markdown",
   "id": "4770a996",
   "metadata": {},
   "source": [
    "The mean accuracy results from 10-Fold Cross Validation also shows that SVC is the best performing classifier followed by SGD classifier."
   ]
  },
  {
   "cell_type": "markdown",
   "id": "de109866",
   "metadata": {},
   "source": [
    "### Task 3 - Review Helpfulness Classification:\n",
    "\n",
    "In this task, I will build two classifiers to distinguish between \"Helpful\" and \"Unhelpful\" reviews."
   ]
  },
  {
   "cell_type": "markdown",
   "id": "07653359",
   "metadata": {},
   "source": [
    "In the pre-processing steps above, I have already created a numeric representation of text documents where I assigned Helpfulness information as labels."
   ]
  },
  {
   "cell_type": "code",
   "execution_count": 38,
   "id": "3e3fcb7e",
   "metadata": {},
   "outputs": [
    {
     "data": {
      "text/html": [
       "<div>\n",
       "<style scoped>\n",
       "    .dataframe tbody tr th:only-of-type {\n",
       "        vertical-align: middle;\n",
       "    }\n",
       "\n",
       "    .dataframe tbody tr th {\n",
       "        vertical-align: top;\n",
       "    }\n",
       "\n",
       "    .dataframe thead th {\n",
       "        text-align: right;\n",
       "    }\n",
       "</style>\n",
       "<table border=\"1\" class=\"dataframe\">\n",
       "  <thead>\n",
       "    <tr style=\"text-align: right;\">\n",
       "      <th></th>\n",
       "      <th>00004</th>\n",
       "      <th>00004 brita</th>\n",
       "      <th>0014</th>\n",
       "      <th>0014 sodastream</th>\n",
       "      <th>00373</th>\n",
       "      <th>00373 water</th>\n",
       "      <th>00377</th>\n",
       "      <th>00377 assumes</th>\n",
       "      <th>018</th>\n",
       "      <th>018 water</th>\n",
       "      <th>...</th>\n",
       "      <th>zoloft really</th>\n",
       "      <th>zone</th>\n",
       "      <th>zp</th>\n",
       "      <th>zp bowl</th>\n",
       "      <th>zp canned</th>\n",
       "      <th>zp close</th>\n",
       "      <th>zp figuring</th>\n",
       "      <th>zucchini</th>\n",
       "      <th>zukes</th>\n",
       "      <th>Label</th>\n",
       "    </tr>\n",
       "  </thead>\n",
       "  <tbody>\n",
       "    <tr>\n",
       "      <th>0</th>\n",
       "      <td>0.0</td>\n",
       "      <td>0.0</td>\n",
       "      <td>0.0</td>\n",
       "      <td>0.0</td>\n",
       "      <td>0.0</td>\n",
       "      <td>0.0</td>\n",
       "      <td>0.0</td>\n",
       "      <td>0.0</td>\n",
       "      <td>0.0</td>\n",
       "      <td>0.0</td>\n",
       "      <td>...</td>\n",
       "      <td>0.0</td>\n",
       "      <td>0.0</td>\n",
       "      <td>0.0</td>\n",
       "      <td>0.0</td>\n",
       "      <td>0.0</td>\n",
       "      <td>0.0</td>\n",
       "      <td>0.0</td>\n",
       "      <td>0.0</td>\n",
       "      <td>0.0</td>\n",
       "      <td>Helpful</td>\n",
       "    </tr>\n",
       "    <tr>\n",
       "      <th>1</th>\n",
       "      <td>0.0</td>\n",
       "      <td>0.0</td>\n",
       "      <td>0.0</td>\n",
       "      <td>0.0</td>\n",
       "      <td>0.0</td>\n",
       "      <td>0.0</td>\n",
       "      <td>0.0</td>\n",
       "      <td>0.0</td>\n",
       "      <td>0.0</td>\n",
       "      <td>0.0</td>\n",
       "      <td>...</td>\n",
       "      <td>0.0</td>\n",
       "      <td>0.0</td>\n",
       "      <td>0.0</td>\n",
       "      <td>0.0</td>\n",
       "      <td>0.0</td>\n",
       "      <td>0.0</td>\n",
       "      <td>0.0</td>\n",
       "      <td>0.0</td>\n",
       "      <td>0.0</td>\n",
       "      <td>Helpful</td>\n",
       "    </tr>\n",
       "    <tr>\n",
       "      <th>2</th>\n",
       "      <td>0.0</td>\n",
       "      <td>0.0</td>\n",
       "      <td>0.0</td>\n",
       "      <td>0.0</td>\n",
       "      <td>0.0</td>\n",
       "      <td>0.0</td>\n",
       "      <td>0.0</td>\n",
       "      <td>0.0</td>\n",
       "      <td>0.0</td>\n",
       "      <td>0.0</td>\n",
       "      <td>...</td>\n",
       "      <td>0.0</td>\n",
       "      <td>0.0</td>\n",
       "      <td>0.0</td>\n",
       "      <td>0.0</td>\n",
       "      <td>0.0</td>\n",
       "      <td>0.0</td>\n",
       "      <td>0.0</td>\n",
       "      <td>0.0</td>\n",
       "      <td>0.0</td>\n",
       "      <td>Unhelpful</td>\n",
       "    </tr>\n",
       "    <tr>\n",
       "      <th>3</th>\n",
       "      <td>0.0</td>\n",
       "      <td>0.0</td>\n",
       "      <td>0.0</td>\n",
       "      <td>0.0</td>\n",
       "      <td>0.0</td>\n",
       "      <td>0.0</td>\n",
       "      <td>0.0</td>\n",
       "      <td>0.0</td>\n",
       "      <td>0.0</td>\n",
       "      <td>0.0</td>\n",
       "      <td>...</td>\n",
       "      <td>0.0</td>\n",
       "      <td>0.0</td>\n",
       "      <td>0.0</td>\n",
       "      <td>0.0</td>\n",
       "      <td>0.0</td>\n",
       "      <td>0.0</td>\n",
       "      <td>0.0</td>\n",
       "      <td>0.0</td>\n",
       "      <td>0.0</td>\n",
       "      <td>Helpful</td>\n",
       "    </tr>\n",
       "    <tr>\n",
       "      <th>4</th>\n",
       "      <td>0.0</td>\n",
       "      <td>0.0</td>\n",
       "      <td>0.0</td>\n",
       "      <td>0.0</td>\n",
       "      <td>0.0</td>\n",
       "      <td>0.0</td>\n",
       "      <td>0.0</td>\n",
       "      <td>0.0</td>\n",
       "      <td>0.0</td>\n",
       "      <td>0.0</td>\n",
       "      <td>...</td>\n",
       "      <td>0.0</td>\n",
       "      <td>0.0</td>\n",
       "      <td>0.0</td>\n",
       "      <td>0.0</td>\n",
       "      <td>0.0</td>\n",
       "      <td>0.0</td>\n",
       "      <td>0.0</td>\n",
       "      <td>0.0</td>\n",
       "      <td>0.0</td>\n",
       "      <td>Unhelpful</td>\n",
       "    </tr>\n",
       "  </tbody>\n",
       "</table>\n",
       "<p>5 rows × 29388 columns</p>\n",
       "</div>"
      ],
      "text/plain": [
       "   00004  00004 brita  0014  0014 sodastream  00373  00373 water  00377  \\\n",
       "0    0.0          0.0   0.0              0.0    0.0          0.0    0.0   \n",
       "1    0.0          0.0   0.0              0.0    0.0          0.0    0.0   \n",
       "2    0.0          0.0   0.0              0.0    0.0          0.0    0.0   \n",
       "3    0.0          0.0   0.0              0.0    0.0          0.0    0.0   \n",
       "4    0.0          0.0   0.0              0.0    0.0          0.0    0.0   \n",
       "\n",
       "   00377 assumes  018  018 water  ...  zoloft really  zone   zp  zp bowl  \\\n",
       "0            0.0  0.0        0.0  ...            0.0   0.0  0.0      0.0   \n",
       "1            0.0  0.0        0.0  ...            0.0   0.0  0.0      0.0   \n",
       "2            0.0  0.0        0.0  ...            0.0   0.0  0.0      0.0   \n",
       "3            0.0  0.0        0.0  ...            0.0   0.0  0.0      0.0   \n",
       "4            0.0  0.0        0.0  ...            0.0   0.0  0.0      0.0   \n",
       "\n",
       "   zp canned  zp close  zp figuring  zucchini  zukes      Label  \n",
       "0        0.0       0.0          0.0       0.0    0.0    Helpful  \n",
       "1        0.0       0.0          0.0       0.0    0.0    Helpful  \n",
       "2        0.0       0.0          0.0       0.0    0.0  Unhelpful  \n",
       "3        0.0       0.0          0.0       0.0    0.0    Helpful  \n",
       "4        0.0       0.0          0.0       0.0    0.0  Unhelpful  \n",
       "\n",
       "[5 rows x 29388 columns]"
      ]
     },
     "execution_count": 38,
     "metadata": {},
     "output_type": "execute_result"
    }
   ],
   "source": [
    "helpfulness_df.head(5)"
   ]
  },
  {
   "cell_type": "markdown",
   "id": "c85611ec",
   "metadata": {},
   "source": [
    "__Training and Testing Datasets__\n",
    "\n",
    "Using `train_test_split` function with a splitting criteria of 70%-30% to generate training and testing datasets for the helpfulness classification."
   ]
  },
  {
   "cell_type": "code",
   "execution_count": 39,
   "id": "6e72e4ce",
   "metadata": {},
   "outputs": [],
   "source": [
    "X_train, X_test, y_train, y_test = train_test_split(helpfulness_df.iloc[:,:-1], helpfulness_df.iloc[:,-1], test_size=0.30)\n"
   ]
  },
  {
   "cell_type": "markdown",
   "id": "32d71f20",
   "metadata": {},
   "source": [
    "Reviewing the distribution of labels within the training dataset"
   ]
  },
  {
   "cell_type": "code",
   "execution_count": 40,
   "id": "3ac4d3b6",
   "metadata": {},
   "outputs": [
    {
     "data": {
      "image/png": "[encoded data removed]",
      "text/plain": [
       "<Figure size 432x288 with 1 Axes>"
      ]
     },
     "metadata": {
      "needs_background": "light"
     },
     "output_type": "display_data"
    }
   ],
   "source": [
    "sn.countplot(y_train)\n",
    "plt.show()"
   ]
  },
  {
   "cell_type": "markdown",
   "id": "d74313db",
   "metadata": {},
   "source": [
    "__Building Classification Models__"
   ]
  },
  {
   "cell_type": "markdown",
   "id": "75d0886b",
   "metadata": {},
   "source": [
    "Generating models using multiple classification algorithms together and then plotting accuracy results to see which one performs better. \n",
    "- Random Forest\n",
    "- K Nearest Neighbours\n",
    "- Linear Support Vector\n",
    "- Decision Tree\n",
    "- Multinomial Naive Bayes\n",
    "- Logictic Regression"
   ]
  },
  {
   "cell_type": "markdown",
   "id": "30fcaf66",
   "metadata": {},
   "source": [
    "Note: Running the below step would take a few minutes (6-7 minutes) because it trains and calculates the accuracy for various classification models together"
   ]
  },
  {
   "cell_type": "code",
   "execution_count": 41,
   "id": "a7234654",
   "metadata": {},
   "outputs": [
    {
     "data": {
      "image/png": "[encoded data removed]",
      "text/plain": [
       "<Figure size 1800x1080 with 1 Axes>"
      ]
     },
     "metadata": {
      "needs_background": "light"
     },
     "output_type": "display_data"
    }
   ],
   "source": [
    "cvdf = classifier_mixup(helpfulness_df)"
   ]
  },
  {
   "cell_type": "code",
   "execution_count": 42,
   "id": "5c19515f",
   "metadata": {},
   "outputs": [
    {
     "data": {
      "text/plain": [
       "model_name\n",
       "DecisionTreeClassifier    0.752598\n",
       "KNeighborsClassifier      0.742752\n",
       "LinearSVC                 0.813069\n",
       "LogisticRegression        0.791975\n",
       "MultinomialNB             0.725552\n",
       "RandomForestClassifier    0.663349\n",
       "Name: accuracy, dtype: float64"
      ]
     },
     "execution_count": 42,
     "metadata": {},
     "output_type": "execute_result"
    }
   ],
   "source": [
    "# Mean accuarcy per model\n",
    "cvdf.groupby('model_name').accuracy.mean()"
   ]
  },
  {
   "cell_type": "markdown",
   "id": "5e2eac07",
   "metadata": {},
   "source": [
    "The plot and the mean accuracy table above shows that the __Linear Support Vector Machine__ performs best amongst all the models followed by __Logistic Regression__ Model."
   ]
  },
  {
   "cell_type": "markdown",
   "id": "6e876e45",
   "metadata": {},
   "source": [
    "__Logistic Regression Model__\n",
    "\n",
    "It uses weighted combination of features and then passes it into the sigmoid function."
   ]
  },
  {
   "cell_type": "code",
   "execution_count": 43,
   "id": "a7b8c4b9",
   "metadata": {},
   "outputs": [
    {
     "name": "stdout",
     "output_type": "stream",
     "text": [
      "Accuracy Score with Logistic Regression:79.1636625811103 \n",
      "\n"
     ]
    }
   ],
   "source": [
    "# Building and training the classifier\n",
    "lr_model = LogisticRegression()\n",
    "lr_model.fit(X_train, y_train)\n",
    "\n",
    "# Testing the classifier\n",
    "y_pred = lr_model.predict(X_test)\n",
    "\n",
    "# Accuracy\n",
    "chk_acc = accuracy_score(y_pred, y_test)\n",
    "print('Accuracy Score with Logistic Regression:{} \\n'.format(chk_acc*100))"
   ]
  },
  {
   "cell_type": "code",
   "execution_count": 44,
   "id": "bc316196",
   "metadata": {},
   "outputs": [
    {
     "name": "stdout",
     "output_type": "stream",
     "text": [
      "Classification Report for Logistic Regression Model:\n",
      "              precision    recall  f1-score   support\n",
      "\n",
      "     Helpful       0.79      0.93      0.85      1828\n",
      "   Unhelpful       0.80      0.52      0.63       946\n",
      "\n",
      "    accuracy                           0.79      2774\n",
      "   macro avg       0.79      0.73      0.74      2774\n",
      "weighted avg       0.79      0.79      0.78      2774\n",
      "\n"
     ]
    },
    {
     "data": {
      "image/png": "[encoded data removed]",
      "text/plain": [
       "<Figure size 360x360 with 1 Axes>"
      ]
     },
     "metadata": {
      "needs_background": "light"
     },
     "output_type": "display_data"
    }
   ],
   "source": [
    "# Creating confusion matrix and classification report for the model\n",
    "con_mat = confusion_matrix(y_test, y_pred)\n",
    "creport = classification_report(y_test, y_pred)\n",
    "print(\"Classification Report for Logistic Regression Model:\\n{}\".format(creport))\n",
    "\n",
    "# Plotting the results\n",
    "fig, ax = plt.subplots(figsize=(5,5))\n",
    "sn.heatmap(con_mat, annot=True, cbar = False, fmt = 'd')\n",
    "plt.ylabel('Actual')\n",
    "plt.xlabel('Predicted')\n",
    "plt.show()"
   ]
  },
  {
   "cell_type": "markdown",
   "id": "c14bd0b7",
   "metadata": {},
   "source": [
    "__Linear Stochastic Gradient Descent__\n",
    "\n",
    "Linear SGD and Linear SVC are widely considered as the best text classification algorithms. It is so because text is often linearly separable and they have a lot of features making it high dimension."
   ]
  },
  {
   "cell_type": "code",
   "execution_count": 45,
   "id": "64569cde",
   "metadata": {},
   "outputs": [
    {
     "name": "stdout",
     "output_type": "stream",
     "text": [
      "Accuracy Score with Linear SGD:80.49747656813267 \n",
      "\n"
     ]
    }
   ],
   "source": [
    "# Building and training the classifier\n",
    "sgd_model = SGDClassifier()\n",
    "sgd_model.fit(X_train, y_train)\n",
    "\n",
    "# Testing the classifier\n",
    "y_pred = sgd_model.predict(X_test)\n",
    "\n",
    "# Accuracy\n",
    "chk_acc = accuracy_score(y_pred, y_test)\n",
    "print('Accuracy Score with Linear SGD:{} \\n'.format(chk_acc*100))"
   ]
  },
  {
   "cell_type": "markdown",
   "id": "876e1b13",
   "metadata": {},
   "source": [
    "Using `Pipeline` to implement the SGD classification model which uses different pre processing techniques as `Count Vectorizer` and `TF-IDF Transformer`"
   ]
  },
  {
   "cell_type": "code",
   "execution_count": 46,
   "id": "ad52e889",
   "metadata": {},
   "outputs": [
    {
     "name": "stdout",
     "output_type": "stream",
     "text": [
      "Overall mean accuracy with Linear SGD:0.81\n"
     ]
    }
   ],
   "source": [
    "pipeline_sgd = Pipeline([('vec', CountVectorizer(stop_words=\"english\")),\n",
    "                    ('tfidf', TfidfTransformer(use_idf=True)),\n",
    "                    ('clf', SGDClassifier())\n",
    "                    ])\n",
    "acc_scores = cross_val_score(pipeline_sgd, lemmatized_df.iloc[:,0], lemmatized_df.iloc[:,2],\n",
    "cv=10, scoring=\"accuracy\")\n",
    "\n",
    "print(\"Overall mean accuracy with Linear SGD:%.2f\" %acc_scores.mean())"
   ]
  },
  {
   "cell_type": "markdown",
   "id": "c5269a69",
   "metadata": {},
   "source": [
    "Both general SGD classifier and the pipeline implementation for sgd classifiers are performing similarly in terms of their accuracy scores."
   ]
  },
  {
   "cell_type": "code",
   "execution_count": 47,
   "id": "58339257",
   "metadata": {},
   "outputs": [
    {
     "name": "stdout",
     "output_type": "stream",
     "text": [
      "Classification Report for SGD Classification Model:\n",
      "              precision    recall  f1-score   support\n",
      "\n",
      "     Helpful       0.84      0.87      0.85      1828\n",
      "   Unhelpful       0.73      0.68      0.70       946\n",
      "\n",
      "    accuracy                           0.80      2774\n",
      "   macro avg       0.79      0.77      0.78      2774\n",
      "weighted avg       0.80      0.80      0.80      2774\n",
      "\n"
     ]
    },
    {
     "data": {
      "image/png": "[encoded data removed]",
      "text/plain": [
       "<Figure size 360x360 with 1 Axes>"
      ]
     },
     "metadata": {
      "needs_background": "light"
     },
     "output_type": "display_data"
    }
   ],
   "source": [
    "# Creating confusion matrix and classification report for the model\n",
    "con_mat = confusion_matrix(y_test, y_pred)\n",
    "creport = classification_report(y_test, y_pred)\n",
    "print(\"Classification Report for SGD Classification Model:\\n{}\".format(creport))\n",
    "\n",
    "# Plotting the results\n",
    "fig, ax = plt.subplots(figsize=(5,5))\n",
    "sn.heatmap(con_mat, annot=True, cbar = False, fmt = 'd')\n",
    "plt.ylabel('Actual')\n",
    "plt.xlabel('Predicted')\n",
    "plt.show()"
   ]
  },
  {
   "cell_type": "markdown",
   "id": "8f96bcb9",
   "metadata": {},
   "source": [
    "__Linear Support Vector Machine__"
   ]
  },
  {
   "cell_type": "code",
   "execution_count": 48,
   "id": "68618fa2",
   "metadata": {},
   "outputs": [
    {
     "name": "stdout",
     "output_type": "stream",
     "text": [
      "Accuracy Score with Linear Support Vector Machine:80.49747656813267 \n",
      "\n"
     ]
    }
   ],
   "source": [
    "# Building and training the classifier\n",
    "svc_model = LinearSVC()\n",
    "svc_model.fit(X_train, y_train)\n",
    "\n",
    "# Testing the classifier\n",
    "y_pred = svc_model.predict(X_test)\n",
    "\n",
    "# Accuracy\n",
    "chk_acc = accuracy_score(y_pred, y_test)\n",
    "print('Accuracy Score with Linear Support Vector Machine:{} \\n'.format(chk_acc*100))"
   ]
  },
  {
   "cell_type": "code",
   "execution_count": 49,
   "id": "ce2d5a2f",
   "metadata": {
    "scrolled": true
   },
   "outputs": [
    {
     "name": "stdout",
     "output_type": "stream",
     "text": [
      "Classification Report for Support Vector Machine Model:\n",
      "              precision    recall  f1-score   support\n",
      "\n",
      "     Helpful       0.84      0.87      0.85      1828\n",
      "   Unhelpful       0.73      0.67      0.70       946\n",
      "\n",
      "    accuracy                           0.80      2774\n",
      "   macro avg       0.79      0.77      0.78      2774\n",
      "weighted avg       0.80      0.80      0.80      2774\n",
      "\n"
     ]
    },
    {
     "data": {
      "image/png": "[encoded data removed]",
      "text/plain": [
       "<Figure size 360x360 with 1 Axes>"
      ]
     },
     "metadata": {
      "needs_background": "light"
     },
     "output_type": "display_data"
    }
   ],
   "source": [
    "# Creating confusion matrix and classification report for the model\n",
    "con_mat = confusion_matrix(y_test, y_pred)\n",
    "creport = classification_report(y_test, y_pred)\n",
    "print(\"Classification Report for Support Vector Machine Model:\\n{}\".format(creport))\n",
    "\n",
    "# Plotting the results\n",
    "fig, ax = plt.subplots(figsize=(5,5))\n",
    "sn.heatmap(con_mat, annot=True, cbar = False, fmt = 'd')\n",
    "plt.ylabel('Actual')\n",
    "plt.xlabel('Predicted')\n",
    "plt.show()"
   ]
  },
  {
   "cell_type": "markdown",
   "id": "54e052b3",
   "metadata": {},
   "source": [
    "__Decision Tree Classifier__"
   ]
  },
  {
   "cell_type": "code",
   "execution_count": 50,
   "id": "66a255bb",
   "metadata": {},
   "outputs": [
    {
     "name": "stdout",
     "output_type": "stream",
     "text": [
      "Overall mean accuracy:0.76\n"
     ]
    }
   ],
   "source": [
    "pipeline_dtc = Pipeline([('vec', CountVectorizer(stop_words=\"english\")),\n",
    "                    ('tfidf', TfidfTransformer(use_idf=True)),\n",
    "                    ('clf', DecisionTreeClassifier())\n",
    "                    ])\n",
    "\n",
    "acc_scores = cross_val_score(pipeline_dtc, lemmatized_df.iloc[:,0], lemmatized_df.iloc[:,2],\n",
    "cv=10, scoring=\"accuracy\")\n",
    "\n",
    "print(\"Overall mean accuracy:%.2f\" %acc_scores.mean())\n"
   ]
  },
  {
   "cell_type": "markdown",
   "id": "9b5ac227",
   "metadata": {},
   "source": [
    "### Performance Comparison and Evaluation Strategies"
   ]
  },
  {
   "cell_type": "markdown",
   "id": "ff7902e0",
   "metadata": {},
   "source": [
    "I have used accuracy scores, confusion matrix and a classification report above to evaluate certain classifiers and below I'll be creating k-fold cross validation to evaluate different classification models."
   ]
  },
  {
   "cell_type": "markdown",
   "id": "1c270995",
   "metadata": {},
   "source": [
    "According to __the accuracy score__, __SGD Classifier__ is performing the best with __81%__ accuracy followed by __Linear SVC__ with __80.5%__ accuracy and then __Logistic Regression__ and __Decision Tree__ models with __79%__ & __76%__ accuracy."
   ]
  },
  {
   "cell_type": "markdown",
   "id": "7abc7ce5",
   "metadata": {},
   "source": [
    "According to the __classification report__ which shows precision, recall, F1 score and support values, SGD classifier and SVC classifier are performing equally well with good values of negative and positive review prediction as shown by precision/recall scores ranging from 70%-90%\n",
    "\n",
    "Precision helps in measuring the exactness of a classifier because it measures how well the false positives are getting reduced through the model. Whereas Recall measures the completeness where it is more inclined towards measuring false negatives. Thus F1-Score is a good measure which gives equal weightage to both precision and recall and helps in evaluating a text classifier from both perspectives. Thus, SVC shows the highest F1-Score followed by SGD and logistic regression.\n",
    "\n",
    "On the other hand, Confusion matrix is showing the similar classification report data in terms of exact numbers."
   ]
  },
  {
   "cell_type": "markdown",
   "id": "50f607c5",
   "metadata": {},
   "source": [
    "__Cross Validation__ <br>\n",
    "Let's see how well the classifier works with cross validation which is a great strategy in performance evaluation because it helps in minimising the chance of overfitting."
   ]
  },
  {
   "cell_type": "code",
   "execution_count": 51,
   "id": "ff40fdd3",
   "metadata": {},
   "outputs": [
    {
     "name": "stdout",
     "output_type": "stream",
     "text": [
      "Fold 1 ->     0.839258\n",
      "Fold 2 ->     0.788253\n",
      "Fold 3 ->     0.817620\n",
      "Fold 4 ->     0.808346\n",
      "Fold 5 ->     0.795981\n",
      "Fold 6 ->     0.831530\n",
      "Fold 7 ->     0.828439\n",
      "Fold 8 ->     0.789799\n",
      "Fold 9 ->     0.811437\n",
      "Fold 10 ->    0.823802\n",
      "dtype: float64\n",
      "Mean accuracy for SVC using 10-Fold CV-> 0.8134\n"
     ]
    }
   ],
   "source": [
    "# 10-Fold Cross Validation\n",
    "svc_model = LinearSVC()\n",
    "cv_acc = cross_val_score(svc_model, X_train, y_train, cv=10, scoring=\"accuracy\")\n",
    "\n",
    "folds = [ \"Fold %d ->\" % i for i in range(1,len(cv_acc)+1) ]\n",
    "acc_series = pd.Series(cv_acc, index = folds)\n",
    "print(acc_series)\n",
    "\n",
    "print(\"Mean accuracy for SVC using 10-Fold CV-> %.4f\" % acc_series.mean() )"
   ]
  },
  {
   "cell_type": "code",
   "execution_count": 52,
   "id": "4b8983a9",
   "metadata": {},
   "outputs": [
    {
     "name": "stdout",
     "output_type": "stream",
     "text": [
      "Fold 1 ->     0.826893\n",
      "Fold 2 ->     0.777434\n",
      "Fold 3 ->     0.822257\n",
      "Fold 4 ->     0.800618\n",
      "Fold 5 ->     0.791345\n",
      "Fold 6 ->     0.837713\n",
      "Fold 7 ->     0.816074\n",
      "Fold 8 ->     0.791345\n",
      "Fold 9 ->     0.806801\n",
      "Fold 10 ->    0.814529\n",
      "dtype: float64\n",
      "Mean accuracy for SGD using 10-Fold CV-> 0.8085\n"
     ]
    }
   ],
   "source": [
    "# 10-Fold Cross Validation\n",
    "sgd_model = SGDClassifier()\n",
    "cv_acc = cross_val_score(sgd_model, X_train, y_train, cv=10, scoring=\"accuracy\")\n",
    "\n",
    "folds = [ \"Fold %d ->\" % i for i in range(1,len(cv_acc)+1) ]\n",
    "acc_series = pd.Series(cv_acc, index = folds)\n",
    "print(acc_series)\n",
    "\n",
    "print(\"Mean accuracy for SGD using 10-Fold CV-> %.4f\" % acc_series.mean() )"
   ]
  },
  {
   "cell_type": "markdown",
   "id": "1eed5c45",
   "metadata": {},
   "source": [
    "The mean accuracy results from 10-Fold Cross Validation also shows that SVC is the best performing classifier followed by SGD classifier."
   ]
  },
  {
   "cell_type": "markdown",
   "id": "09c833aa",
   "metadata": {},
   "source": [
    "### Difference in performance of the two classification tasks:"
   ]
  },
  {
   "cell_type": "markdown",
   "id": "ec02f77d",
   "metadata": {},
   "source": [
    "- Overall accuracy score shows that sentiment classification works better than the helpfulness classification because the accuracy reaches around 88% for sentiment classification models whereas it is 80% with the helpfulness classification.\n",
    "- Multinomial Naive Bayes which is a good algorithm for text classification performs better with sentiment classification whereas there is a dip of 10% with the helpfulness classification.\n",
    "- In both the classification tasks, Support Vector Machine is the best performing algorithm overall.\n",
    "- While performing cross validation on multiple classifiers, sentiment classification shows almost similar accuracy scores in all the folds but helpfulness classification shows good amount of variation in accuracy scores. Hence, cross validation proves to be good evaluation technique in helpfulness classification because hold out strategy could lead to overfitting.\n",
    "- Also on comparing the classification metrics (Precision, Recall, F1-Score) of both the classification tasks, we see that Sentiment classification performs better."
   ]
  },
  {
   "cell_type": "markdown",
   "id": "2671ed73",
   "metadata": {},
   "source": [
    "## Conclusion:"
   ]
  },
  {
   "cell_type": "markdown",
   "id": "ba56df77",
   "metadata": {},
   "source": [
    "### Summary of Insights:"
   ]
  },
  {
   "cell_type": "markdown",
   "id": "51dc96e9",
   "metadata": {},
   "source": [
    "- Large amount of reviews are scraped with the help of Beautiful Soup Parser.\n",
    "- Review information was extracted using various different tags within the HTML code such as anchor tags, headings, href tags etc.\n",
    "- Based on the number of rating, the target class was decided for the sentiment classification. Similarly, based on the percentage of helpfulness, the target class was assigned for the helpfulness classification.\n",
    "- A number of pre-processing steps are performed over text reviews such as normalisation, lemmatisation, stop word removal, tf-idf vectorization and tf-idf transformation which resulted in good formation of the dataset.\n",
    "- Many different classification algorithms are tried on both the sentiment and helpfulness data to decide on the best classification strategies. Models such as:\n",
    "    1. Random Forest\n",
    "    2. K Nearest Neighbours\n",
    "    3. Linear Support Vector\n",
    "    4. Decision Tree\n",
    "    5. Multinomial Naive Bayes\n",
    "    6. Logistic Regression\n",
    "- Support Vector Machine classifier is the best performing model in both the tasks.\n",
    "- Other good performing classifiers are Stochastic Gradient Descent and the logistic regression models.\n",
    "- Sentiment Classification showed highest accuracy as 88% whereas Helpfulness classification showed highest accuracy as 81%\n",
    "- SGD Pipeline strategy shows almost similar results as the general SGD classifier.\n",
    "- Classification report showed a wide overview on how different labels are getting classified.\n",
    "- Confusion Matrix helped in unfolding the exact numbers of False Positives and False Negatives.\n",
    "- Cross Validation proved to be a better evaluation strategy in performance comparison and a better technique to reduce the chance of overfitting."
   ]
  },
  {
   "cell_type": "markdown",
   "id": "30b31974",
   "metadata": {},
   "source": [
    "### Challenges:"
   ]
  },
  {
   "cell_type": "markdown",
   "id": "294f2ef6",
   "metadata": {},
   "source": [
    "- One particular challenge of the review parsing was that there were multiple metadata tags within the HTML so I had to perform some cleaning procedures while fetching the helpfulness information from the webpages. Also, reviews were distributed across multiple pages (30 per page), so I had to iterate through all the pages because index page only had the first page reference for each month and year.\n",
    "- Another challenge was in deciding the pre processing techniques because multiple cleaning ways had to be adopted to baseline the text data.\n",
    "- Coming up with a good evaluation strategy was also a major challenge. I calculates various scores using different methods to perfectly come up to a conclusion in terms of best classifier."
   ]
  },
  {
   "cell_type": "markdown",
   "id": "d0471be7",
   "metadata": {},
   "source": [
    "### Future Work:"
   ]
  },
  {
   "cell_type": "markdown",
   "id": "b113916b",
   "metadata": {},
   "source": [
    "- __Word2Vec__ can be applied which allows mapping of similar meaning words to have similar vector matrix.\n",
    "- Usage of different similarity techniques like cosine similarity and other distance matrix ways could help in enhancing the classification results.\n",
    "- GridSearchCV can also be adopted to perform different configurations of the same classification algorithm.\n"
   ]
  }
 ],
 "metadata": {
  "kernelspec": {
   "display_name": "Python 3 (ipykernel)",
   "language": "python",
   "name": "python3"
  },
  "language_info": {
   "codemirror_mode": {
    "name": "ipython",
    "version": 3
   },
   "file_extension": ".py",
   "mimetype": "text/x-python",
   "name": "python",
   "nbconvert_exporter": "python",
   "pygments_lexer": "ipython3",
   "version": "3.10.5"
  }
 },
 "nbformat": 4,
 "nbformat_minor": 5
}
