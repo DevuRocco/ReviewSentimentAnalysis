{
 "cells": [
  {
   "cell_type": "markdown",
   "id": "0f8d9d54",
   "metadata": {},
   "source": [
    "## Text Classification\n",
    "### Task 1 - Data Collection:"
   ]
  },
  {
   "cell_type": "markdown",
   "id": "6457851b",
   "metadata": {},
   "source": [
    "**Product Review (2016-2021)** <br/>"
   ]
  },
  {
   "cell_type": "markdown",
   "id": "f0d5cf85",
   "metadata": {},
   "source": [
    "In this assignment I will scrape a collection of product reviews from a set of web pages, preprocess the data and evaluate the performance of different classifiers in the context of review sentiment and review helfulness.\n",
    "\n",
    "This notebook covers **Task 1 - Data Collection**. The web page contains review across all years from 2016 to 2021 and these reviews are spread across various pages (30 reviews per page). This task requires parsing of all the webpages to collect review information from all the six years. <br><br> The information that needs to be extracted is:\n",
    "- The star rating of the review.\n",
    "- The title of the review.\n",
    "- The main body of the review.\n",
    "- Review helpfulness information."
   ]
  },
  {
   "cell_type": "code",
   "execution_count": 1,
   "id": "86504a00",
   "metadata": {},
   "outputs": [],
   "source": [
    "import requests\n",
    "from pathlib import Path\n",
    "import pandas as pd\n",
    "import numpy as np\n",
    "from bs4 import BeautifulSoup\n",
    "import os"
   ]
  },
  {
   "cell_type": "markdown",
   "id": "57848b28",
   "metadata": {},
   "source": [
    "Default settings for the data collection."
   ]
  },
  {
   "cell_type": "code",
   "execution_count": 2,
   "id": "ee7029a7",
   "metadata": {},
   "outputs": [],
   "source": [
    "# Personal Website Address\n",
    "base_url = 'http://mlg.ucd.ie/modules/python/assign2/'\n",
    "\n",
    "# Global list declarations\n",
    "ref_url_list = []\n",
    "titles = []\n",
    "body_text = []\n",
    "ratings = []\n",
    "helpfulness = []"
   ]
  },
  {
   "cell_type": "markdown",
   "id": "bddb9473",
   "metadata": {},
   "source": [
    "Create directory for raw data storage, if it does not already exist:"
   ]
  },
  {
   "cell_type": "code",
   "execution_count": 3,
   "id": "f4f34192",
   "metadata": {},
   "outputs": [],
   "source": [
    "dir_raw = Path(\"raw\")\n",
    "dir_raw.mkdir(parents=True, exist_ok=True)"
   ]
  },
  {
   "cell_type": "markdown",
   "id": "d9054eb2",
   "metadata": {},
   "source": [
    "Defining a parseHTML function to parse HTML content for different URL requests."
   ]
  },
  {
   "cell_type": "code",
   "execution_count": 4,
   "id": "96004a05",
   "metadata": {},
   "outputs": [],
   "source": [
    "def parseHTML(url):\n",
    "    '''\n",
    "    :parameter url: provide the url which requires content parsing\n",
    "    '''\n",
    "    response = requests.get(url)\n",
    "    # validating the response code to allow for parsing\n",
    "    if response.status_code == 200:\n",
    "        content = response.content.decode('utf-8')\n",
    "        parsed_content = BeautifulSoup(content, \"html.parser\")\n",
    "        return parsed_content\n",
    "    else:\n",
    "        raise Exception(\"Web page not found\")"
   ]
  },
  {
   "cell_type": "markdown",
   "id": "f6cc4180",
   "metadata": {},
   "source": [
    "Defining a parse_webpage_links function to parse base URL content to fetch embedded href links."
   ]
  },
  {
   "cell_type": "code",
   "execution_count": 5,
   "id": "4c6f91d9",
   "metadata": {},
   "outputs": [],
   "source": [
    "def parse_webpage_links(url):\n",
    "    '''\n",
    "    :parameter url: provide the url which requires content parsing\n",
    "    '''\n",
    "    # Calling parseHTML function to parse the webpage content\n",
    "    parsed_content = parseHTML(url)\n",
    "    \n",
    "    # Finding all anchor tags within the parsed content to fetch href links\n",
    "    ref_links = parsed_content.find_all('a')\n",
    "    \n",
    "    # Iterating through the anchor tags to fetch href links\n",
    "    for link in ref_links:\n",
    "        href = link.get('href')\n",
    "        # passing on the base url\n",
    "        if 'index' in href:\n",
    "            pass\n",
    "        else:\n",
    "            ref_url_list.append(url + str(href))\n",
    "    \n",
    "    print(\"Successfully fetched all the reference links from the base url\")\n",
    "    #print(ref_url_list)\n",
    "    return ref_url_list"
   ]
  },
  {
   "cell_type": "markdown",
   "id": "776dc4db",
   "metadata": {},
   "source": [
    "Defining a parseReview function to parse reference URL content to fetch review contents."
   ]
  },
  {
   "cell_type": "code",
   "execution_count": 6,
   "id": "ac4962d3",
   "metadata": {},
   "outputs": [],
   "source": [
    "def parseReview(url):\n",
    "    '''\n",
    "    :parameter url: provide the url which requires content parsing\n",
    "    '''\n",
    "    # Calling parseHTML function to parse the reference webpage content\n",
    "    parsed_content = parseHTML(url)\n",
    "    \n",
    "    # Parsing review titles from the reference link and storing them in the global list\n",
    "    rev_title = parsed_content.find_all('h5')\n",
    "    for title in rev_title:\n",
    "        titles.append(title.get_text(strip=True))\n",
    "    \n",
    "    # Parsing review body text from the reference link and storing it in the global list\n",
    "    rev_body = parsed_content.find_all('p',{\"class\":\"review-body\"})\n",
    "    for body in rev_body:\n",
    "        body_text.append(body.get_text(strip=True))\n",
    "    \n",
    "    # Parsing review ratings from the reference link and storing them in the global list\n",
    "    rev_rating = parsed_content.find_all('img',alt=True)\n",
    "    for rating in rev_rating:\n",
    "        ratings.append(int(rating.get('alt')[0]))\n",
    "\n",
    "    # Parsing review helpfulness information from the reference link and storing them in the global list\n",
    "    rev_help = parsed_content.find_all('p',{\"class\":\"metadata\"})\n",
    "    for helpf in rev_help:\n",
    "        if 'users found this review helpful' in helpf.text:\n",
    "            helpfulness.append(helpf.get_text(strip=True))\n",
    "    \n",
    "    print(\"Successfully Parsed %s\" % url)\n"
   ]
  },
  {
   "cell_type": "markdown",
   "id": "0c1010e2",
   "metadata": {},
   "source": [
    "Function to generate a csv dump for the parsed review data"
   ]
  },
  {
   "cell_type": "code",
   "execution_count": 7,
   "id": "3f828ea7",
   "metadata": {},
   "outputs": [],
   "source": [
    "def generate_csv():\n",
    "    fname = \"review_data.csv\"\n",
    "    out_path = dir_raw / fname\n",
    "    print(\"Writing data to %s\" % out_path)\n",
    "    review_df = pd.DataFrame({'Title':titles,'Review':body_text,'Rating':ratings,'Helpfulness_Info':helpfulness})\n",
    "    review_df.to_csv(out_path, index=False)"
   ]
  },
  {
   "cell_type": "markdown",
   "id": "42f1ab7a",
   "metadata": {},
   "source": [
    "Fetching monthly webpage links for all the six years"
   ]
  },
  {
   "cell_type": "code",
   "execution_count": 8,
   "id": "208b87f2",
   "metadata": {},
   "outputs": [
    {
     "name": "stdout",
     "output_type": "stream",
     "text": [
      "Successfully fetched all the reference links from the base url\n"
     ]
    }
   ],
   "source": [
    "ref_url_list = []\n",
    "yearwise_links = parse_webpage_links(base_url)"
   ]
  },
  {
   "cell_type": "markdown",
   "id": "9ccf73fd",
   "metadata": {},
   "source": [
    "Collecting the review information using the parser"
   ]
  },
  {
   "cell_type": "code",
   "execution_count": 9,
   "id": "df9811b0",
   "metadata": {},
   "outputs": [
    {
     "name": "stdout",
     "output_type": "stream",
     "text": [
      "Successfully Parsed http://mlg.ucd.ie/modules/python/assign2/21200390/reviews-2016-jan-01.html\n",
      "Successfully Parsed http://mlg.ucd.ie/modules/python/assign2/21200390/reviews-2016-jan-02.html\n",
      "Successfully Parsed http://mlg.ucd.ie/modules/python/assign2/21200390/reviews-2016-jan-03.html\n",
      "Successfully Parsed http://mlg.ucd.ie/modules/python/assign2/21200390/reviews-2016-jan-04.html\n",
      "Successfully Parsed http://mlg.ucd.ie/modules/python/assign2/21200390/reviews-2016-jan-05.html\n",
      "Successfully Parsed http://mlg.ucd.ie/modules/python/assign2/21200390/reviews-2016-jan-06.html\n",
      "Successfully Parsed http://mlg.ucd.ie/modules/python/assign2/21200390/reviews-2016-feb-01.html\n",
      "Successfully Parsed http://mlg.ucd.ie/modules/python/assign2/21200390/reviews-2016-feb-02.html\n",
      "Successfully Parsed http://mlg.ucd.ie/modules/python/assign2/21200390/reviews-2016-feb-03.html\n",
      "Successfully Parsed http://mlg.ucd.ie/modules/python/assign2/21200390/reviews-2016-feb-04.html\n",
      "Successfully Parsed http://mlg.ucd.ie/modules/python/assign2/21200390/reviews-2016-feb-05.html\n",
      "Successfully Parsed http://mlg.ucd.ie/modules/python/assign2/21200390/reviews-2016-mar-01.html\n",
      "Successfully Parsed http://mlg.ucd.ie/modules/python/assign2/21200390/reviews-2016-mar-02.html\n",
      "Successfully Parsed http://mlg.ucd.ie/modules/python/assign2/21200390/reviews-2016-mar-03.html\n",
      "Successfully Parsed http://mlg.ucd.ie/modules/python/assign2/21200390/reviews-2016-mar-04.html\n",
      "Successfully Parsed http://mlg.ucd.ie/modules/python/assign2/21200390/reviews-2016-mar-05.html\n",
      "Successfully Parsed http://mlg.ucd.ie/modules/python/assign2/21200390/reviews-2016-apr-01.html\n",
      "Successfully Parsed http://mlg.ucd.ie/modules/python/assign2/21200390/reviews-2016-apr-02.html\n",
      "Successfully Parsed http://mlg.ucd.ie/modules/python/assign2/21200390/reviews-2016-apr-03.html\n",
      "Successfully Parsed http://mlg.ucd.ie/modules/python/assign2/21200390/reviews-2016-apr-04.html\n",
      "Successfully Parsed http://mlg.ucd.ie/modules/python/assign2/21200390/reviews-2016-apr-05.html\n",
      "Successfully Parsed http://mlg.ucd.ie/modules/python/assign2/21200390/reviews-2016-may-01.html\n",
      "Successfully Parsed http://mlg.ucd.ie/modules/python/assign2/21200390/reviews-2016-may-02.html\n",
      "Successfully Parsed http://mlg.ucd.ie/modules/python/assign2/21200390/reviews-2016-may-03.html\n",
      "Successfully Parsed http://mlg.ucd.ie/modules/python/assign2/21200390/reviews-2016-may-04.html\n",
      "Successfully Parsed http://mlg.ucd.ie/modules/python/assign2/21200390/reviews-2016-may-05.html\n",
      "Successfully Parsed http://mlg.ucd.ie/modules/python/assign2/21200390/reviews-2016-jun-01.html\n",
      "Successfully Parsed http://mlg.ucd.ie/modules/python/assign2/21200390/reviews-2016-jun-02.html\n",
      "Successfully Parsed http://mlg.ucd.ie/modules/python/assign2/21200390/reviews-2016-jun-03.html\n",
      "Successfully Parsed http://mlg.ucd.ie/modules/python/assign2/21200390/reviews-2016-jun-04.html\n",
      "Successfully Parsed http://mlg.ucd.ie/modules/python/assign2/21200390/reviews-2016-jun-05.html\n",
      "Successfully Parsed http://mlg.ucd.ie/modules/python/assign2/21200390/reviews-2016-jul-01.html\n",
      "Successfully Parsed http://mlg.ucd.ie/modules/python/assign2/21200390/reviews-2016-jul-02.html\n",
      "Successfully Parsed http://mlg.ucd.ie/modules/python/assign2/21200390/reviews-2016-jul-03.html\n",
      "Successfully Parsed http://mlg.ucd.ie/modules/python/assign2/21200390/reviews-2016-jul-04.html\n",
      "Successfully Parsed http://mlg.ucd.ie/modules/python/assign2/21200390/reviews-2016-aug-01.html\n",
      "Successfully Parsed http://mlg.ucd.ie/modules/python/assign2/21200390/reviews-2016-aug-02.html\n",
      "Successfully Parsed http://mlg.ucd.ie/modules/python/assign2/21200390/reviews-2016-aug-03.html\n",
      "Successfully Parsed http://mlg.ucd.ie/modules/python/assign2/21200390/reviews-2016-aug-04.html\n",
      "Successfully Parsed http://mlg.ucd.ie/modules/python/assign2/21200390/reviews-2016-sep-01.html\n",
      "Successfully Parsed http://mlg.ucd.ie/modules/python/assign2/21200390/reviews-2016-sep-02.html\n",
      "Successfully Parsed http://mlg.ucd.ie/modules/python/assign2/21200390/reviews-2016-sep-03.html\n",
      "Successfully Parsed http://mlg.ucd.ie/modules/python/assign2/21200390/reviews-2016-sep-04.html\n",
      "Successfully Parsed http://mlg.ucd.ie/modules/python/assign2/21200390/reviews-2016-oct-01.html\n",
      "Successfully Parsed http://mlg.ucd.ie/modules/python/assign2/21200390/reviews-2016-oct-02.html\n",
      "Successfully Parsed http://mlg.ucd.ie/modules/python/assign2/21200390/reviews-2016-oct-03.html\n",
      "Successfully Parsed http://mlg.ucd.ie/modules/python/assign2/21200390/reviews-2016-oct-04.html\n",
      "Successfully Parsed http://mlg.ucd.ie/modules/python/assign2/21200390/reviews-2016-oct-05.html\n",
      "Successfully Parsed http://mlg.ucd.ie/modules/python/assign2/21200390/reviews-2016-nov-01.html\n",
      "Successfully Parsed http://mlg.ucd.ie/modules/python/assign2/21200390/reviews-2016-nov-02.html\n",
      "Successfully Parsed http://mlg.ucd.ie/modules/python/assign2/21200390/reviews-2016-nov-03.html\n",
      "Successfully Parsed http://mlg.ucd.ie/modules/python/assign2/21200390/reviews-2016-nov-04.html\n",
      "Successfully Parsed http://mlg.ucd.ie/modules/python/assign2/21200390/reviews-2016-dec-01.html\n",
      "Successfully Parsed http://mlg.ucd.ie/modules/python/assign2/21200390/reviews-2016-dec-02.html\n",
      "Successfully Parsed http://mlg.ucd.ie/modules/python/assign2/21200390/reviews-2016-dec-03.html\n",
      "Successfully Parsed http://mlg.ucd.ie/modules/python/assign2/21200390/reviews-2016-dec-04.html\n",
      "Successfully Parsed http://mlg.ucd.ie/modules/python/assign2/21200390/reviews-2016-dec-05.html\n",
      "Successfully Parsed http://mlg.ucd.ie/modules/python/assign2/21200390/reviews-2017-jan-01.html\n",
      "Successfully Parsed http://mlg.ucd.ie/modules/python/assign2/21200390/reviews-2017-jan-02.html\n",
      "Successfully Parsed http://mlg.ucd.ie/modules/python/assign2/21200390/reviews-2017-jan-03.html\n",
      "Successfully Parsed http://mlg.ucd.ie/modules/python/assign2/21200390/reviews-2017-jan-04.html\n",
      "Successfully Parsed http://mlg.ucd.ie/modules/python/assign2/21200390/reviews-2017-jan-05.html\n",
      "Successfully Parsed http://mlg.ucd.ie/modules/python/assign2/21200390/reviews-2017-feb-01.html\n",
      "Successfully Parsed http://mlg.ucd.ie/modules/python/assign2/21200390/reviews-2017-feb-02.html\n",
      "Successfully Parsed http://mlg.ucd.ie/modules/python/assign2/21200390/reviews-2017-feb-03.html\n",
      "Successfully Parsed http://mlg.ucd.ie/modules/python/assign2/21200390/reviews-2017-feb-04.html\n",
      "Successfully Parsed http://mlg.ucd.ie/modules/python/assign2/21200390/reviews-2017-feb-05.html\n",
      "Successfully Parsed http://mlg.ucd.ie/modules/python/assign2/21200390/reviews-2017-mar-01.html\n",
      "Successfully Parsed http://mlg.ucd.ie/modules/python/assign2/21200390/reviews-2017-mar-02.html\n",
      "Successfully Parsed http://mlg.ucd.ie/modules/python/assign2/21200390/reviews-2017-mar-03.html\n",
      "Successfully Parsed http://mlg.ucd.ie/modules/python/assign2/21200390/reviews-2017-mar-04.html\n",
      "Successfully Parsed http://mlg.ucd.ie/modules/python/assign2/21200390/reviews-2017-mar-05.html\n",
      "Successfully Parsed http://mlg.ucd.ie/modules/python/assign2/21200390/reviews-2017-apr-01.html\n",
      "Successfully Parsed http://mlg.ucd.ie/modules/python/assign2/21200390/reviews-2017-apr-02.html\n",
      "Successfully Parsed http://mlg.ucd.ie/modules/python/assign2/21200390/reviews-2017-apr-03.html\n",
      "Successfully Parsed http://mlg.ucd.ie/modules/python/assign2/21200390/reviews-2017-apr-04.html\n",
      "Successfully Parsed http://mlg.ucd.ie/modules/python/assign2/21200390/reviews-2017-may-01.html\n",
      "Successfully Parsed http://mlg.ucd.ie/modules/python/assign2/21200390/reviews-2017-may-02.html\n",
      "Successfully Parsed http://mlg.ucd.ie/modules/python/assign2/21200390/reviews-2017-may-03.html\n",
      "Successfully Parsed http://mlg.ucd.ie/modules/python/assign2/21200390/reviews-2017-may-04.html\n",
      "Successfully Parsed http://mlg.ucd.ie/modules/python/assign2/21200390/reviews-2017-may-05.html\n",
      "Successfully Parsed http://mlg.ucd.ie/modules/python/assign2/21200390/reviews-2017-jun-01.html\n",
      "Successfully Parsed http://mlg.ucd.ie/modules/python/assign2/21200390/reviews-2017-jun-02.html\n",
      "Successfully Parsed http://mlg.ucd.ie/modules/python/assign2/21200390/reviews-2017-jun-03.html\n",
      "Successfully Parsed http://mlg.ucd.ie/modules/python/assign2/21200390/reviews-2017-jun-04.html\n",
      "Successfully Parsed http://mlg.ucd.ie/modules/python/assign2/21200390/reviews-2017-jul-01.html\n",
      "Successfully Parsed http://mlg.ucd.ie/modules/python/assign2/21200390/reviews-2017-jul-02.html\n"
     ]
    },
    {
     "name": "stdout",
     "output_type": "stream",
     "text": [
      "Successfully Parsed http://mlg.ucd.ie/modules/python/assign2/21200390/reviews-2017-jul-03.html\n",
      "Successfully Parsed http://mlg.ucd.ie/modules/python/assign2/21200390/reviews-2017-jul-04.html\n",
      "Successfully Parsed http://mlg.ucd.ie/modules/python/assign2/21200390/reviews-2017-aug-01.html\n",
      "Successfully Parsed http://mlg.ucd.ie/modules/python/assign2/21200390/reviews-2017-aug-02.html\n",
      "Successfully Parsed http://mlg.ucd.ie/modules/python/assign2/21200390/reviews-2017-aug-03.html\n",
      "Successfully Parsed http://mlg.ucd.ie/modules/python/assign2/21200390/reviews-2017-aug-04.html\n",
      "Successfully Parsed http://mlg.ucd.ie/modules/python/assign2/21200390/reviews-2017-aug-05.html\n",
      "Successfully Parsed http://mlg.ucd.ie/modules/python/assign2/21200390/reviews-2017-aug-06.html\n",
      "Successfully Parsed http://mlg.ucd.ie/modules/python/assign2/21200390/reviews-2017-sep-01.html\n",
      "Successfully Parsed http://mlg.ucd.ie/modules/python/assign2/21200390/reviews-2017-sep-02.html\n",
      "Successfully Parsed http://mlg.ucd.ie/modules/python/assign2/21200390/reviews-2017-sep-03.html\n",
      "Successfully Parsed http://mlg.ucd.ie/modules/python/assign2/21200390/reviews-2017-sep-04.html\n",
      "Successfully Parsed http://mlg.ucd.ie/modules/python/assign2/21200390/reviews-2017-sep-05.html\n",
      "Successfully Parsed http://mlg.ucd.ie/modules/python/assign2/21200390/reviews-2017-oct-01.html\n",
      "Successfully Parsed http://mlg.ucd.ie/modules/python/assign2/21200390/reviews-2017-oct-02.html\n",
      "Successfully Parsed http://mlg.ucd.ie/modules/python/assign2/21200390/reviews-2017-oct-03.html\n",
      "Successfully Parsed http://mlg.ucd.ie/modules/python/assign2/21200390/reviews-2017-oct-04.html\n",
      "Successfully Parsed http://mlg.ucd.ie/modules/python/assign2/21200390/reviews-2017-oct-05.html\n",
      "Successfully Parsed http://mlg.ucd.ie/modules/python/assign2/21200390/reviews-2017-nov-01.html\n",
      "Successfully Parsed http://mlg.ucd.ie/modules/python/assign2/21200390/reviews-2017-nov-02.html\n",
      "Successfully Parsed http://mlg.ucd.ie/modules/python/assign2/21200390/reviews-2017-nov-03.html\n",
      "Successfully Parsed http://mlg.ucd.ie/modules/python/assign2/21200390/reviews-2017-nov-04.html\n",
      "Successfully Parsed http://mlg.ucd.ie/modules/python/assign2/21200390/reviews-2017-nov-05.html\n",
      "Successfully Parsed http://mlg.ucd.ie/modules/python/assign2/21200390/reviews-2017-dec-01.html\n",
      "Successfully Parsed http://mlg.ucd.ie/modules/python/assign2/21200390/reviews-2017-dec-02.html\n",
      "Successfully Parsed http://mlg.ucd.ie/modules/python/assign2/21200390/reviews-2017-dec-03.html\n",
      "Successfully Parsed http://mlg.ucd.ie/modules/python/assign2/21200390/reviews-2017-dec-04.html\n",
      "Successfully Parsed http://mlg.ucd.ie/modules/python/assign2/21200390/reviews-2017-dec-05.html\n",
      "Successfully Parsed http://mlg.ucd.ie/modules/python/assign2/21200390/reviews-2018-jan-01.html\n",
      "Successfully Parsed http://mlg.ucd.ie/modules/python/assign2/21200390/reviews-2018-jan-02.html\n",
      "Successfully Parsed http://mlg.ucd.ie/modules/python/assign2/21200390/reviews-2018-jan-03.html\n",
      "Successfully Parsed http://mlg.ucd.ie/modules/python/assign2/21200390/reviews-2018-jan-04.html\n",
      "Successfully Parsed http://mlg.ucd.ie/modules/python/assign2/21200390/reviews-2018-feb-01.html\n",
      "Successfully Parsed http://mlg.ucd.ie/modules/python/assign2/21200390/reviews-2018-feb-02.html\n",
      "Successfully Parsed http://mlg.ucd.ie/modules/python/assign2/21200390/reviews-2018-feb-03.html\n",
      "Successfully Parsed http://mlg.ucd.ie/modules/python/assign2/21200390/reviews-2018-feb-04.html\n",
      "Successfully Parsed http://mlg.ucd.ie/modules/python/assign2/21200390/reviews-2018-feb-05.html\n",
      "Successfully Parsed http://mlg.ucd.ie/modules/python/assign2/21200390/reviews-2018-mar-01.html\n",
      "Successfully Parsed http://mlg.ucd.ie/modules/python/assign2/21200390/reviews-2018-mar-02.html\n",
      "Successfully Parsed http://mlg.ucd.ie/modules/python/assign2/21200390/reviews-2018-mar-03.html\n",
      "Successfully Parsed http://mlg.ucd.ie/modules/python/assign2/21200390/reviews-2018-mar-04.html\n",
      "Successfully Parsed http://mlg.ucd.ie/modules/python/assign2/21200390/reviews-2018-mar-05.html\n",
      "Successfully Parsed http://mlg.ucd.ie/modules/python/assign2/21200390/reviews-2018-apr-01.html\n",
      "Successfully Parsed http://mlg.ucd.ie/modules/python/assign2/21200390/reviews-2018-apr-02.html\n",
      "Successfully Parsed http://mlg.ucd.ie/modules/python/assign2/21200390/reviews-2018-apr-03.html\n",
      "Successfully Parsed http://mlg.ucd.ie/modules/python/assign2/21200390/reviews-2018-apr-04.html\n",
      "Successfully Parsed http://mlg.ucd.ie/modules/python/assign2/21200390/reviews-2018-may-01.html\n",
      "Successfully Parsed http://mlg.ucd.ie/modules/python/assign2/21200390/reviews-2018-may-02.html\n",
      "Successfully Parsed http://mlg.ucd.ie/modules/python/assign2/21200390/reviews-2018-may-03.html\n",
      "Successfully Parsed http://mlg.ucd.ie/modules/python/assign2/21200390/reviews-2018-may-04.html\n",
      "Successfully Parsed http://mlg.ucd.ie/modules/python/assign2/21200390/reviews-2018-may-05.html\n",
      "Successfully Parsed http://mlg.ucd.ie/modules/python/assign2/21200390/reviews-2018-jun-01.html\n",
      "Successfully Parsed http://mlg.ucd.ie/modules/python/assign2/21200390/reviews-2018-jun-02.html\n",
      "Successfully Parsed http://mlg.ucd.ie/modules/python/assign2/21200390/reviews-2018-jun-03.html\n",
      "Successfully Parsed http://mlg.ucd.ie/modules/python/assign2/21200390/reviews-2018-jun-04.html\n",
      "Successfully Parsed http://mlg.ucd.ie/modules/python/assign2/21200390/reviews-2018-jun-05.html\n",
      "Successfully Parsed http://mlg.ucd.ie/modules/python/assign2/21200390/reviews-2018-jul-01.html\n",
      "Successfully Parsed http://mlg.ucd.ie/modules/python/assign2/21200390/reviews-2018-jul-02.html\n",
      "Successfully Parsed http://mlg.ucd.ie/modules/python/assign2/21200390/reviews-2018-jul-03.html\n",
      "Successfully Parsed http://mlg.ucd.ie/modules/python/assign2/21200390/reviews-2018-jul-04.html\n",
      "Successfully Parsed http://mlg.ucd.ie/modules/python/assign2/21200390/reviews-2018-jul-05.html\n",
      "Successfully Parsed http://mlg.ucd.ie/modules/python/assign2/21200390/reviews-2018-aug-01.html\n",
      "Successfully Parsed http://mlg.ucd.ie/modules/python/assign2/21200390/reviews-2018-aug-02.html\n",
      "Successfully Parsed http://mlg.ucd.ie/modules/python/assign2/21200390/reviews-2018-aug-03.html\n",
      "Successfully Parsed http://mlg.ucd.ie/modules/python/assign2/21200390/reviews-2018-aug-04.html\n",
      "Successfully Parsed http://mlg.ucd.ie/modules/python/assign2/21200390/reviews-2018-aug-05.html\n",
      "Successfully Parsed http://mlg.ucd.ie/modules/python/assign2/21200390/reviews-2018-sep-01.html\n",
      "Successfully Parsed http://mlg.ucd.ie/modules/python/assign2/21200390/reviews-2018-sep-02.html\n",
      "Successfully Parsed http://mlg.ucd.ie/modules/python/assign2/21200390/reviews-2018-sep-03.html\n",
      "Successfully Parsed http://mlg.ucd.ie/modules/python/assign2/21200390/reviews-2018-sep-04.html\n",
      "Successfully Parsed http://mlg.ucd.ie/modules/python/assign2/21200390/reviews-2018-sep-05.html\n",
      "Successfully Parsed http://mlg.ucd.ie/modules/python/assign2/21200390/reviews-2018-oct-01.html\n",
      "Successfully Parsed http://mlg.ucd.ie/modules/python/assign2/21200390/reviews-2018-oct-02.html\n",
      "Successfully Parsed http://mlg.ucd.ie/modules/python/assign2/21200390/reviews-2018-oct-03.html\n",
      "Successfully Parsed http://mlg.ucd.ie/modules/python/assign2/21200390/reviews-2018-oct-04.html\n",
      "Successfully Parsed http://mlg.ucd.ie/modules/python/assign2/21200390/reviews-2018-oct-05.html\n",
      "Successfully Parsed http://mlg.ucd.ie/modules/python/assign2/21200390/reviews-2018-nov-01.html\n",
      "Successfully Parsed http://mlg.ucd.ie/modules/python/assign2/21200390/reviews-2018-nov-02.html\n",
      "Successfully Parsed http://mlg.ucd.ie/modules/python/assign2/21200390/reviews-2018-nov-03.html\n",
      "Successfully Parsed http://mlg.ucd.ie/modules/python/assign2/21200390/reviews-2018-nov-04.html\n",
      "Successfully Parsed http://mlg.ucd.ie/modules/python/assign2/21200390/reviews-2018-dec-01.html\n",
      "Successfully Parsed http://mlg.ucd.ie/modules/python/assign2/21200390/reviews-2018-dec-02.html\n",
      "Successfully Parsed http://mlg.ucd.ie/modules/python/assign2/21200390/reviews-2018-dec-03.html\n",
      "Successfully Parsed http://mlg.ucd.ie/modules/python/assign2/21200390/reviews-2018-dec-04.html\n",
      "Successfully Parsed http://mlg.ucd.ie/modules/python/assign2/21200390/reviews-2018-dec-05.html\n",
      "Successfully Parsed http://mlg.ucd.ie/modules/python/assign2/21200390/reviews-2019-jan-01.html\n",
      "Successfully Parsed http://mlg.ucd.ie/modules/python/assign2/21200390/reviews-2019-jan-02.html\n"
     ]
    },
    {
     "name": "stdout",
     "output_type": "stream",
     "text": [
      "Successfully Parsed http://mlg.ucd.ie/modules/python/assign2/21200390/reviews-2019-jan-03.html\n",
      "Successfully Parsed http://mlg.ucd.ie/modules/python/assign2/21200390/reviews-2019-jan-04.html\n",
      "Successfully Parsed http://mlg.ucd.ie/modules/python/assign2/21200390/reviews-2019-jan-05.html\n",
      "Successfully Parsed http://mlg.ucd.ie/modules/python/assign2/21200390/reviews-2019-feb-01.html\n",
      "Successfully Parsed http://mlg.ucd.ie/modules/python/assign2/21200390/reviews-2019-feb-02.html\n",
      "Successfully Parsed http://mlg.ucd.ie/modules/python/assign2/21200390/reviews-2019-feb-03.html\n",
      "Successfully Parsed http://mlg.ucd.ie/modules/python/assign2/21200390/reviews-2019-feb-04.html\n",
      "Successfully Parsed http://mlg.ucd.ie/modules/python/assign2/21200390/reviews-2019-mar-01.html\n",
      "Successfully Parsed http://mlg.ucd.ie/modules/python/assign2/21200390/reviews-2019-mar-02.html\n",
      "Successfully Parsed http://mlg.ucd.ie/modules/python/assign2/21200390/reviews-2019-mar-03.html\n",
      "Successfully Parsed http://mlg.ucd.ie/modules/python/assign2/21200390/reviews-2019-mar-04.html\n",
      "Successfully Parsed http://mlg.ucd.ie/modules/python/assign2/21200390/reviews-2019-mar-05.html\n",
      "Successfully Parsed http://mlg.ucd.ie/modules/python/assign2/21200390/reviews-2019-apr-01.html\n",
      "Successfully Parsed http://mlg.ucd.ie/modules/python/assign2/21200390/reviews-2019-apr-02.html\n",
      "Successfully Parsed http://mlg.ucd.ie/modules/python/assign2/21200390/reviews-2019-apr-03.html\n",
      "Successfully Parsed http://mlg.ucd.ie/modules/python/assign2/21200390/reviews-2019-apr-04.html\n",
      "Successfully Parsed http://mlg.ucd.ie/modules/python/assign2/21200390/reviews-2019-apr-05.html\n",
      "Successfully Parsed http://mlg.ucd.ie/modules/python/assign2/21200390/reviews-2019-may-01.html\n",
      "Successfully Parsed http://mlg.ucd.ie/modules/python/assign2/21200390/reviews-2019-may-02.html\n",
      "Successfully Parsed http://mlg.ucd.ie/modules/python/assign2/21200390/reviews-2019-may-03.html\n",
      "Successfully Parsed http://mlg.ucd.ie/modules/python/assign2/21200390/reviews-2019-may-04.html\n",
      "Successfully Parsed http://mlg.ucd.ie/modules/python/assign2/21200390/reviews-2019-may-05.html\n",
      "Successfully Parsed http://mlg.ucd.ie/modules/python/assign2/21200390/reviews-2019-may-06.html\n",
      "Successfully Parsed http://mlg.ucd.ie/modules/python/assign2/21200390/reviews-2019-jun-01.html\n",
      "Successfully Parsed http://mlg.ucd.ie/modules/python/assign2/21200390/reviews-2019-jun-02.html\n",
      "Successfully Parsed http://mlg.ucd.ie/modules/python/assign2/21200390/reviews-2019-jun-03.html\n",
      "Successfully Parsed http://mlg.ucd.ie/modules/python/assign2/21200390/reviews-2019-jun-04.html\n",
      "Successfully Parsed http://mlg.ucd.ie/modules/python/assign2/21200390/reviews-2019-jun-05.html\n",
      "Successfully Parsed http://mlg.ucd.ie/modules/python/assign2/21200390/reviews-2019-jul-01.html\n",
      "Successfully Parsed http://mlg.ucd.ie/modules/python/assign2/21200390/reviews-2019-jul-02.html\n",
      "Successfully Parsed http://mlg.ucd.ie/modules/python/assign2/21200390/reviews-2019-jul-03.html\n",
      "Successfully Parsed http://mlg.ucd.ie/modules/python/assign2/21200390/reviews-2019-jul-04.html\n",
      "Successfully Parsed http://mlg.ucd.ie/modules/python/assign2/21200390/reviews-2019-jul-05.html\n",
      "Successfully Parsed http://mlg.ucd.ie/modules/python/assign2/21200390/reviews-2019-aug-01.html\n",
      "Successfully Parsed http://mlg.ucd.ie/modules/python/assign2/21200390/reviews-2019-aug-02.html\n",
      "Successfully Parsed http://mlg.ucd.ie/modules/python/assign2/21200390/reviews-2019-aug-03.html\n",
      "Successfully Parsed http://mlg.ucd.ie/modules/python/assign2/21200390/reviews-2019-aug-04.html\n",
      "Successfully Parsed http://mlg.ucd.ie/modules/python/assign2/21200390/reviews-2019-aug-05.html\n",
      "Successfully Parsed http://mlg.ucd.ie/modules/python/assign2/21200390/reviews-2019-sep-01.html\n",
      "Successfully Parsed http://mlg.ucd.ie/modules/python/assign2/21200390/reviews-2019-sep-02.html\n",
      "Successfully Parsed http://mlg.ucd.ie/modules/python/assign2/21200390/reviews-2019-sep-03.html\n",
      "Successfully Parsed http://mlg.ucd.ie/modules/python/assign2/21200390/reviews-2019-sep-04.html\n",
      "Successfully Parsed http://mlg.ucd.ie/modules/python/assign2/21200390/reviews-2019-sep-05.html\n",
      "Successfully Parsed http://mlg.ucd.ie/modules/python/assign2/21200390/reviews-2019-oct-01.html\n",
      "Successfully Parsed http://mlg.ucd.ie/modules/python/assign2/21200390/reviews-2019-oct-02.html\n",
      "Successfully Parsed http://mlg.ucd.ie/modules/python/assign2/21200390/reviews-2019-oct-03.html\n",
      "Successfully Parsed http://mlg.ucd.ie/modules/python/assign2/21200390/reviews-2019-oct-04.html\n",
      "Successfully Parsed http://mlg.ucd.ie/modules/python/assign2/21200390/reviews-2019-oct-05.html\n",
      "Successfully Parsed http://mlg.ucd.ie/modules/python/assign2/21200390/reviews-2019-nov-01.html\n",
      "Successfully Parsed http://mlg.ucd.ie/modules/python/assign2/21200390/reviews-2019-nov-02.html\n",
      "Successfully Parsed http://mlg.ucd.ie/modules/python/assign2/21200390/reviews-2019-nov-03.html\n",
      "Successfully Parsed http://mlg.ucd.ie/modules/python/assign2/21200390/reviews-2019-nov-04.html\n",
      "Successfully Parsed http://mlg.ucd.ie/modules/python/assign2/21200390/reviews-2019-nov-05.html\n",
      "Successfully Parsed http://mlg.ucd.ie/modules/python/assign2/21200390/reviews-2019-dec-01.html\n",
      "Successfully Parsed http://mlg.ucd.ie/modules/python/assign2/21200390/reviews-2019-dec-02.html\n",
      "Successfully Parsed http://mlg.ucd.ie/modules/python/assign2/21200390/reviews-2019-dec-03.html\n",
      "Successfully Parsed http://mlg.ucd.ie/modules/python/assign2/21200390/reviews-2019-dec-04.html\n",
      "Successfully Parsed http://mlg.ucd.ie/modules/python/assign2/21200390/reviews-2019-dec-05.html\n",
      "Successfully Parsed http://mlg.ucd.ie/modules/python/assign2/21200390/reviews-2020-jan-01.html\n",
      "Successfully Parsed http://mlg.ucd.ie/modules/python/assign2/21200390/reviews-2020-jan-02.html\n",
      "Successfully Parsed http://mlg.ucd.ie/modules/python/assign2/21200390/reviews-2020-jan-03.html\n",
      "Successfully Parsed http://mlg.ucd.ie/modules/python/assign2/21200390/reviews-2020-jan-04.html\n",
      "Successfully Parsed http://mlg.ucd.ie/modules/python/assign2/21200390/reviews-2020-jan-05.html\n",
      "Successfully Parsed http://mlg.ucd.ie/modules/python/assign2/21200390/reviews-2020-jan-06.html\n",
      "Successfully Parsed http://mlg.ucd.ie/modules/python/assign2/21200390/reviews-2020-feb-01.html\n",
      "Successfully Parsed http://mlg.ucd.ie/modules/python/assign2/21200390/reviews-2020-feb-02.html\n",
      "Successfully Parsed http://mlg.ucd.ie/modules/python/assign2/21200390/reviews-2020-feb-03.html\n",
      "Successfully Parsed http://mlg.ucd.ie/modules/python/assign2/21200390/reviews-2020-feb-04.html\n",
      "Successfully Parsed http://mlg.ucd.ie/modules/python/assign2/21200390/reviews-2020-feb-05.html\n",
      "Successfully Parsed http://mlg.ucd.ie/modules/python/assign2/21200390/reviews-2020-mar-01.html\n",
      "Successfully Parsed http://mlg.ucd.ie/modules/python/assign2/21200390/reviews-2020-mar-02.html\n",
      "Successfully Parsed http://mlg.ucd.ie/modules/python/assign2/21200390/reviews-2020-mar-03.html\n",
      "Successfully Parsed http://mlg.ucd.ie/modules/python/assign2/21200390/reviews-2020-mar-04.html\n",
      "Successfully Parsed http://mlg.ucd.ie/modules/python/assign2/21200390/reviews-2020-apr-01.html\n",
      "Successfully Parsed http://mlg.ucd.ie/modules/python/assign2/21200390/reviews-2020-apr-02.html\n",
      "Successfully Parsed http://mlg.ucd.ie/modules/python/assign2/21200390/reviews-2020-apr-03.html\n",
      "Successfully Parsed http://mlg.ucd.ie/modules/python/assign2/21200390/reviews-2020-apr-04.html\n",
      "Successfully Parsed http://mlg.ucd.ie/modules/python/assign2/21200390/reviews-2020-may-01.html\n",
      "Successfully Parsed http://mlg.ucd.ie/modules/python/assign2/21200390/reviews-2020-may-02.html\n",
      "Successfully Parsed http://mlg.ucd.ie/modules/python/assign2/21200390/reviews-2020-may-03.html\n",
      "Successfully Parsed http://mlg.ucd.ie/modules/python/assign2/21200390/reviews-2020-may-04.html\n",
      "Successfully Parsed http://mlg.ucd.ie/modules/python/assign2/21200390/reviews-2020-may-05.html\n",
      "Successfully Parsed http://mlg.ucd.ie/modules/python/assign2/21200390/reviews-2020-jun-01.html\n",
      "Successfully Parsed http://mlg.ucd.ie/modules/python/assign2/21200390/reviews-2020-jun-02.html\n",
      "Successfully Parsed http://mlg.ucd.ie/modules/python/assign2/21200390/reviews-2020-jun-03.html\n",
      "Successfully Parsed http://mlg.ucd.ie/modules/python/assign2/21200390/reviews-2020-jun-04.html\n",
      "Successfully Parsed http://mlg.ucd.ie/modules/python/assign2/21200390/reviews-2020-jul-01.html\n"
     ]
    },
    {
     "name": "stdout",
     "output_type": "stream",
     "text": [
      "Successfully Parsed http://mlg.ucd.ie/modules/python/assign2/21200390/reviews-2020-jul-02.html\n",
      "Successfully Parsed http://mlg.ucd.ie/modules/python/assign2/21200390/reviews-2020-jul-03.html\n",
      "Successfully Parsed http://mlg.ucd.ie/modules/python/assign2/21200390/reviews-2020-jul-04.html\n",
      "Successfully Parsed http://mlg.ucd.ie/modules/python/assign2/21200390/reviews-2020-aug-01.html\n",
      "Successfully Parsed http://mlg.ucd.ie/modules/python/assign2/21200390/reviews-2020-aug-02.html\n",
      "Successfully Parsed http://mlg.ucd.ie/modules/python/assign2/21200390/reviews-2020-aug-03.html\n",
      "Successfully Parsed http://mlg.ucd.ie/modules/python/assign2/21200390/reviews-2020-aug-04.html\n",
      "Successfully Parsed http://mlg.ucd.ie/modules/python/assign2/21200390/reviews-2020-aug-05.html\n",
      "Successfully Parsed http://mlg.ucd.ie/modules/python/assign2/21200390/reviews-2020-sep-01.html\n",
      "Successfully Parsed http://mlg.ucd.ie/modules/python/assign2/21200390/reviews-2020-sep-02.html\n",
      "Successfully Parsed http://mlg.ucd.ie/modules/python/assign2/21200390/reviews-2020-sep-03.html\n",
      "Successfully Parsed http://mlg.ucd.ie/modules/python/assign2/21200390/reviews-2020-sep-04.html\n",
      "Successfully Parsed http://mlg.ucd.ie/modules/python/assign2/21200390/reviews-2020-sep-05.html\n",
      "Successfully Parsed http://mlg.ucd.ie/modules/python/assign2/21200390/reviews-2020-oct-01.html\n",
      "Successfully Parsed http://mlg.ucd.ie/modules/python/assign2/21200390/reviews-2020-oct-02.html\n",
      "Successfully Parsed http://mlg.ucd.ie/modules/python/assign2/21200390/reviews-2020-oct-03.html\n",
      "Successfully Parsed http://mlg.ucd.ie/modules/python/assign2/21200390/reviews-2020-oct-04.html\n",
      "Successfully Parsed http://mlg.ucd.ie/modules/python/assign2/21200390/reviews-2020-oct-05.html\n",
      "Successfully Parsed http://mlg.ucd.ie/modules/python/assign2/21200390/reviews-2020-nov-01.html\n",
      "Successfully Parsed http://mlg.ucd.ie/modules/python/assign2/21200390/reviews-2020-nov-02.html\n",
      "Successfully Parsed http://mlg.ucd.ie/modules/python/assign2/21200390/reviews-2020-nov-03.html\n",
      "Successfully Parsed http://mlg.ucd.ie/modules/python/assign2/21200390/reviews-2020-nov-04.html\n",
      "Successfully Parsed http://mlg.ucd.ie/modules/python/assign2/21200390/reviews-2020-nov-05.html\n",
      "Successfully Parsed http://mlg.ucd.ie/modules/python/assign2/21200390/reviews-2020-dec-01.html\n",
      "Successfully Parsed http://mlg.ucd.ie/modules/python/assign2/21200390/reviews-2020-dec-02.html\n",
      "Successfully Parsed http://mlg.ucd.ie/modules/python/assign2/21200390/reviews-2020-dec-03.html\n",
      "Successfully Parsed http://mlg.ucd.ie/modules/python/assign2/21200390/reviews-2020-dec-04.html\n",
      "Successfully Parsed http://mlg.ucd.ie/modules/python/assign2/21200390/reviews-2020-dec-05.html\n",
      "Successfully Parsed http://mlg.ucd.ie/modules/python/assign2/21200390/reviews-2021-jan-01.html\n",
      "Successfully Parsed http://mlg.ucd.ie/modules/python/assign2/21200390/reviews-2021-jan-02.html\n",
      "Successfully Parsed http://mlg.ucd.ie/modules/python/assign2/21200390/reviews-2021-jan-03.html\n",
      "Successfully Parsed http://mlg.ucd.ie/modules/python/assign2/21200390/reviews-2021-jan-04.html\n",
      "Successfully Parsed http://mlg.ucd.ie/modules/python/assign2/21200390/reviews-2021-feb-01.html\n",
      "Successfully Parsed http://mlg.ucd.ie/modules/python/assign2/21200390/reviews-2021-feb-02.html\n",
      "Successfully Parsed http://mlg.ucd.ie/modules/python/assign2/21200390/reviews-2021-feb-03.html\n",
      "Successfully Parsed http://mlg.ucd.ie/modules/python/assign2/21200390/reviews-2021-feb-04.html\n",
      "Successfully Parsed http://mlg.ucd.ie/modules/python/assign2/21200390/reviews-2021-mar-01.html\n",
      "Successfully Parsed http://mlg.ucd.ie/modules/python/assign2/21200390/reviews-2021-mar-02.html\n",
      "Successfully Parsed http://mlg.ucd.ie/modules/python/assign2/21200390/reviews-2021-mar-03.html\n",
      "Successfully Parsed http://mlg.ucd.ie/modules/python/assign2/21200390/reviews-2021-mar-04.html\n",
      "Successfully Parsed http://mlg.ucd.ie/modules/python/assign2/21200390/reviews-2021-apr-01.html\n",
      "Successfully Parsed http://mlg.ucd.ie/modules/python/assign2/21200390/reviews-2021-apr-02.html\n",
      "Successfully Parsed http://mlg.ucd.ie/modules/python/assign2/21200390/reviews-2021-apr-03.html\n",
      "Successfully Parsed http://mlg.ucd.ie/modules/python/assign2/21200390/reviews-2021-apr-04.html\n",
      "Successfully Parsed http://mlg.ucd.ie/modules/python/assign2/21200390/reviews-2021-may-01.html\n",
      "Successfully Parsed http://mlg.ucd.ie/modules/python/assign2/21200390/reviews-2021-may-02.html\n",
      "Successfully Parsed http://mlg.ucd.ie/modules/python/assign2/21200390/reviews-2021-may-03.html\n",
      "Successfully Parsed http://mlg.ucd.ie/modules/python/assign2/21200390/reviews-2021-may-04.html\n",
      "Successfully Parsed http://mlg.ucd.ie/modules/python/assign2/21200390/reviews-2021-may-05.html\n",
      "Successfully Parsed http://mlg.ucd.ie/modules/python/assign2/21200390/reviews-2021-may-06.html\n",
      "Successfully Parsed http://mlg.ucd.ie/modules/python/assign2/21200390/reviews-2021-jun-01.html\n",
      "Successfully Parsed http://mlg.ucd.ie/modules/python/assign2/21200390/reviews-2021-jun-02.html\n",
      "Successfully Parsed http://mlg.ucd.ie/modules/python/assign2/21200390/reviews-2021-jun-03.html\n",
      "Successfully Parsed http://mlg.ucd.ie/modules/python/assign2/21200390/reviews-2021-jun-04.html\n",
      "Successfully Parsed http://mlg.ucd.ie/modules/python/assign2/21200390/reviews-2021-jun-05.html\n",
      "Successfully Parsed http://mlg.ucd.ie/modules/python/assign2/21200390/reviews-2021-jul-01.html\n",
      "Successfully Parsed http://mlg.ucd.ie/modules/python/assign2/21200390/reviews-2021-jul-02.html\n",
      "Successfully Parsed http://mlg.ucd.ie/modules/python/assign2/21200390/reviews-2021-jul-03.html\n",
      "Successfully Parsed http://mlg.ucd.ie/modules/python/assign2/21200390/reviews-2021-jul-04.html\n",
      "Successfully Parsed http://mlg.ucd.ie/modules/python/assign2/21200390/reviews-2021-jul-05.html\n",
      "Successfully Parsed http://mlg.ucd.ie/modules/python/assign2/21200390/reviews-2021-aug-01.html\n",
      "Successfully Parsed http://mlg.ucd.ie/modules/python/assign2/21200390/reviews-2021-aug-02.html\n",
      "Successfully Parsed http://mlg.ucd.ie/modules/python/assign2/21200390/reviews-2021-aug-03.html\n",
      "Successfully Parsed http://mlg.ucd.ie/modules/python/assign2/21200390/reviews-2021-aug-04.html\n",
      "Successfully Parsed http://mlg.ucd.ie/modules/python/assign2/21200390/reviews-2021-aug-05.html\n",
      "Successfully Parsed http://mlg.ucd.ie/modules/python/assign2/21200390/reviews-2021-sep-01.html\n",
      "Successfully Parsed http://mlg.ucd.ie/modules/python/assign2/21200390/reviews-2021-sep-02.html\n",
      "Successfully Parsed http://mlg.ucd.ie/modules/python/assign2/21200390/reviews-2021-sep-03.html\n",
      "Successfully Parsed http://mlg.ucd.ie/modules/python/assign2/21200390/reviews-2021-sep-04.html\n",
      "Successfully Parsed http://mlg.ucd.ie/modules/python/assign2/21200390/reviews-2021-sep-05.html\n",
      "Successfully Parsed http://mlg.ucd.ie/modules/python/assign2/21200390/reviews-2021-oct-01.html\n",
      "Successfully Parsed http://mlg.ucd.ie/modules/python/assign2/21200390/reviews-2021-oct-02.html\n",
      "Successfully Parsed http://mlg.ucd.ie/modules/python/assign2/21200390/reviews-2021-oct-03.html\n",
      "Successfully Parsed http://mlg.ucd.ie/modules/python/assign2/21200390/reviews-2021-oct-04.html\n",
      "Successfully Parsed http://mlg.ucd.ie/modules/python/assign2/21200390/reviews-2021-oct-05.html\n",
      "Successfully Parsed http://mlg.ucd.ie/modules/python/assign2/21200390/reviews-2021-nov-01.html\n",
      "Successfully Parsed http://mlg.ucd.ie/modules/python/assign2/21200390/reviews-2021-nov-02.html\n",
      "Successfully Parsed http://mlg.ucd.ie/modules/python/assign2/21200390/reviews-2021-nov-03.html\n",
      "Successfully Parsed http://mlg.ucd.ie/modules/python/assign2/21200390/reviews-2021-nov-04.html\n",
      "Successfully Parsed http://mlg.ucd.ie/modules/python/assign2/21200390/reviews-2021-nov-05.html\n",
      "Successfully Parsed http://mlg.ucd.ie/modules/python/assign2/21200390/reviews-2021-dec-01.html\n",
      "Successfully Parsed http://mlg.ucd.ie/modules/python/assign2/21200390/reviews-2021-dec-02.html\n",
      "Successfully Parsed http://mlg.ucd.ie/modules/python/assign2/21200390/reviews-2021-dec-03.html\n",
      "Successfully Parsed http://mlg.ucd.ie/modules/python/assign2/21200390/reviews-2021-dec-04.html\n",
      "Successfully Parsed http://mlg.ucd.ie/modules/python/assign2/21200390/reviews-2021-dec-05.html\n"
     ]
    }
   ],
   "source": [
    "titles = []\n",
    "body_text = []\n",
    "ratings = []\n",
    "helpfulness = []\n",
    "\n",
    "# Iterating through each of the reference links\n",
    "for yw_link in yearwise_links:\n",
    "    # Iterating through all the pages\n",
    "    link_parts = os.path.splitext(yw_link)\n",
    "    for i in range(1,8):\n",
    "        # Recreating the link for each page within the monthly reviews webpage\n",
    "        reformed_link = link_parts[0][:-1] + str(i) + link_parts[1]\n",
    "        try:\n",
    "            parseReview(reformed_link)\n",
    "        except:\n",
    "            break"
   ]
  },
  {
   "cell_type": "markdown",
   "id": "35b417bc",
   "metadata": {},
   "source": [
    "Validating if all the reviews have been collected successfully"
   ]
  },
  {
   "cell_type": "code",
   "execution_count": 10,
   "id": "b004a0e7",
   "metadata": {
    "scrolled": true
   },
   "outputs": [
    {
     "name": "stdout",
     "output_type": "stream",
     "text": [
      "Review collection successful\n"
     ]
    }
   ],
   "source": [
    "# Validating if the collected review information is equal to the total number of reviews (9244)\n",
    "if len(titles) == len(body_text) == len(ratings) == len(helpfulness) == 9244:\n",
    "    print(\"Review collection successful\")\n",
    "else:\n",
    "    print(\"Mismatch in the collected numbers\")"
   ]
  },
  {
   "cell_type": "markdown",
   "id": "ec425306",
   "metadata": {},
   "source": [
    "Calling the generate csv function if review collection is successful"
   ]
  },
  {
   "cell_type": "code",
   "execution_count": 11,
   "id": "62692458",
   "metadata": {},
   "outputs": [
    {
     "name": "stdout",
     "output_type": "stream",
     "text": [
      "Writing data to raw/review_data.csv\n"
     ]
    }
   ],
   "source": [
    "generate_csv()"
   ]
  },
  {
   "cell_type": "markdown",
   "id": "ce83ab3f",
   "metadata": {},
   "source": [
    "Note - In this task, I have collected the necessary review data by parsing through all the web pages and created a CSV dump - **review_data.csv** which has been saved in the \"raw\" directory. This data dump will be used in task 2 for further data classification and analysis."
   ]
  }
 ],
 "metadata": {
  "kernelspec": {
   "display_name": "Python 3 (ipykernel)",
   "language": "python",
   "name": "python3"
  },
  "language_info": {
   "codemirror_mode": {
    "name": "ipython",
    "version": 3
   },
   "file_extension": ".py",
   "mimetype": "text/x-python",
   "name": "python",
   "nbconvert_exporter": "python",
   "pygments_lexer": "ipython3",
   "version": "3.10.5"
  }
 },
 "nbformat": 4,
 "nbformat_minor": 5
}
